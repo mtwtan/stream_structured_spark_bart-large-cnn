{
 "cells": [
  {
   "cell_type": "code",
   "execution_count": 1,
   "id": "22173b71-ed18-4e13-ba6e-f14d95c6dcf6",
   "metadata": {},
   "outputs": [
    {
     "name": "stderr",
     "output_type": "stream",
     "text": [
      "/home/ubuntu/.local/lib/python3.10/site-packages/tqdm/auto.py:21: TqdmWarning: IProgress not found. Please update jupyter and ipywidgets. See https://ipywidgets.readthedocs.io/en/stable/user_install.html\n",
      "  from .autonotebook import tqdm as notebook_tqdm\n"
     ]
    }
   ],
   "source": [
    "import json\n",
    "import boto3\n",
    "import time\n",
    "from anthropic import Anthropic \n",
    "from botocore.exceptions import ClientError\n",
    "from chunkipy import TextChunker, TokenEstimator\n",
    "from transformers import AutoTokenizer #, BertTokenizer, pipeline"
   ]
  },
  {
   "cell_type": "code",
   "execution_count": 2,
   "id": "f8610574-cab1-45f6-996f-7905ee1cc7f0",
   "metadata": {},
   "outputs": [],
   "source": [
    "class BertTokenEstimator(TokenEstimator):\n",
    "    def __init__(self):\n",
    "        self.bert_tokenizer = AutoTokenizer.from_pretrained(\"bert-base-uncased\")\n",
    "\n",
    "    def estimate_tokens(self, text):\n",
    "        return len(self.bert_tokenizer.encode(text))"
   ]
  },
  {
   "cell_type": "code",
   "execution_count": 3,
   "id": "e6243800-db15-41a3-a7c0-a658d3414c00",
   "metadata": {},
   "outputs": [],
   "source": [
    "# Initialize BertEstimator\n",
    "bert_token_estimator = BertTokenEstimator()"
   ]
  },
  {
   "cell_type": "code",
   "execution_count": 4,
   "id": "2db36965-a387-42a0-b6f2-82627f236473",
   "metadata": {},
   "outputs": [],
   "source": [
    "REGION = \"us-east-1\""
   ]
  },
  {
   "cell_type": "code",
   "execution_count": 5,
   "id": "35fad643-a4fa-4409-ba28-3dec7386d342",
   "metadata": {},
   "outputs": [],
   "source": [
    "client_bedrock = boto3.client(\"bedrock-runtime\", REGION)"
   ]
  },
  {
   "cell_type": "code",
   "execution_count": 6,
   "id": "5546728c-381e-4a3a-8edf-b54285c6d51f",
   "metadata": {},
   "outputs": [],
   "source": [
    "txt = \"\"\"Mission Two: The Wrecking Crew\n",
    "Matt Helm series Reviews by Ujjwal Dey\n",
    "\n",
    "Well the first one is beaten to grit and grim by this second one in the series. A little longer at 176 pages, still an easy read for my weekend; this one brings Helm into a whole new line of action in espionage business.\n",
    "\n",
    "Now Matt Helm has had his refresher course in the covert groups training - the American Mordgruppe - The Wrecking Crew - an unknown, unspoken elite group of operatives who generally work alone to do what armies and clouts of bureaucrats can't achieve. The man is just right for the job. The trainers believe he is in no shape to be an operative and certainly past his prime. His bad new resume was certain to get him killed on a field mission. Mac agrees - he is just the man for this job.\n",
    "\n",
    "Matt Helm now has to play dumb; to act like a clumsy ancient World War trooper who can't call the shots in this peacetime covert warfare. As a photographer for an American magazine he lands up in Artic Europe to shoot innocent bland photos of mines for a girl who could be a double-agent or simply a fool in this foolish game. The girl in question has survived a bullet meant for her journalist husband who had the gall to write a tale describing a Russian agent - The Man No one Knows. Of course this deadly Russian operative has no sympathy for such breakthrough journalism, and now the supposed widow is carrying out her husband's journalistic inclinations.\n",
    "\n",
    "There is more than meets the eye and pretty women are lethal in more ways than one. Helm's contact in Sweden is shot dead in the face, double-crossed by her evil mysterious agent. Helm has to contend with getting bruised and bashed around to prove himself harmless to a variety of operatives - biding his time to get his orders.\n",
    "\n",
    "Yes, the men in Washington call off lethal action - no Government ordered assassination during peacetime - but that is not a restriction upon Helm's enemies. Matt Helm goes through unraveling intricacies in the players' cards, as a poker player who has to display ignorance of any known card game. As people show up dead around him, things come to light and when the final game is afoot - Matt has the aces up his sleeve to vindicate Mac's faith in him.\n",
    "\n",
    "The violence is as bad if not worse than the first book - which is a good thing in any gritty espionage thriller. The brief reflections on the first book events such as him carving up an old lady friend and his separation from his wife also come up very much accurately into the new plot. His handiness without a gun is seen very well in this story as essentially he has to go out there unarmed to convincingly play the role of an American photographer, even if the cover doesn't fool his targets.\n",
    "\n",
    "The geographical descriptions and accuracy in detail is wonderful and you can imagine yourself tracing his trail across the mountains and into wilderness in the Arctic. He has to \"make the touch\" - Group M speak for killing the target - similar to what mafia would say \"making a hit\". But he has to be patient enough to identify the mysterious Russian spy, wait for the go ahead from his Boss, and then make sure he does it cleanly - being in a friendly country during peacetime.\n",
    "\n",
    "Putting up a classy display of ineptness, we also get to read about all that he could have done as a master agent but doesn't to keep himself useful to the Russian agent - he is able to prove himself harmless on more than one occasion until finally its time for a showdown.\n",
    "\n",
    "Cars, guns, women's choice of clothes, all again feature in this sequel in Matt Helm's ponderings. There are women he trusts and they assuredly betray him and Helm is not one to be heartbroken or sentimental - he goes about his business with determination and calculation - even surprising his own Government's other operatives (of other departments) - who fall for his \"clumsy\" act. At the end Helm proves himself to be as cunning and ruthless as his Russian rival. The climax action with its cold-blooded moves sees Helm make his touch and save a damsel from distress as well. The last chapter adds more to Helm's personality and legend. His un-emotive demeanour at what could have been a tragic romantic scene ensures he is the man with a job he is good at.\n",
    "\n",
    "If you thought gadgets and expensive machinery with latest guns was the way an agent wins a war - you have watched too many James Bond movies. This book's account shows us in a believable and clinical clarity how a secret agent would go through with his mission in a foreign country. Matt Helm is no great fist-fighter but he knows how to fight and here we see him use more of the matter between his ears in contrast to the trigger in enemy hands.\n",
    "\n",
    "Extract: When you act like a nice guy, everyone examines your motives with a microscope. When you act like a conscienceless louse, they generally take you at face value.\"\"\""
   ]
  },
  {
   "cell_type": "code",
   "execution_count": 7,
   "id": "bbed01b4-1e33-4108-a95a-e2fcde4048d7",
   "metadata": {},
   "outputs": [
    {
     "name": "stderr",
     "output_type": "stream",
     "text": [
      "Token indices sequence length is longer than the specified maximum sequence length for this model (1040 > 512). Running this sequence through the model will result in indexing errors\n"
     ]
    },
    {
     "name": "stdout",
     "output_type": "stream",
     "text": [
      "1040\n"
     ]
    }
   ],
   "source": [
    "token_count = bert_token_estimator.estimate_tokens(txt)\n",
    "print(token_count)"
   ]
  },
  {
   "cell_type": "code",
   "execution_count": null,
   "id": "23e90f7c-37b1-44c8-b911-ef0421e382b2",
   "metadata": {},
   "outputs": [],
   "source": [
    "#def getBedrockResponse(model_id, body):\n",
    "#    response = client_bedrock.invoke_model(modelId=model_id, body=body)\n",
    "#    return response"
   ]
  },
  {
   "cell_type": "code",
   "execution_count": 8,
   "id": "10910c1e-5488-4eea-b0c5-d4d9a30606b1",
   "metadata": {},
   "outputs": [],
   "source": [
    "def getBodyJson(system_prompt, message_json):\n",
    "    body_summary = json.dumps({\n",
    "        \"max_tokens\": 2048,\n",
    "        \"temperature\": 0.5,\n",
    "        \"system\": system_prompt,\n",
    "        \"messages\": [ message_json ],\n",
    "        \"anthropic_version\": \"bedrock-2023-05-31\"\n",
    "    })\n",
    "\n",
    "    return body_summary"
   ]
  },
  {
   "cell_type": "code",
   "execution_count": 9,
   "id": "770f3283-7d66-49bb-884c-c06c89a5a52b",
   "metadata": {},
   "outputs": [],
   "source": [
    "def getMessageJson(user_prompt):\n",
    "    user_prompt = f\"\"\"\\n\\n\\nHuman: {user_prompt}\\n\\nAssistant:\"\"\"\n",
    "    message_json = {\n",
    "        \"role\": \"user\",\n",
    "        \"content\": [\n",
    "            {\n",
    "                \"type\": \"text\",\n",
    "                \"text\": user_prompt\n",
    "            }\n",
    "        ]\n",
    "    }\n",
    "    return message_json"
   ]
  },
  {
   "cell_type": "code",
   "execution_count": 10,
   "id": "02461667-8887-4271-af5f-468e3882306c",
   "metadata": {},
   "outputs": [],
   "source": [
    "# Define prompt\n",
    "system_prompt = \"The texts here are all book reviews.\"\n",
    "user_prompt_1 = f\"\"\"Write a summary of the following review; all your output has to be grammatically correct in a single paragraph:\\n{txt}\"\"\"\n",
    "user_prompt_2 = f\"\"\"The text below is a book review. Tell me the sentiment of the text here:\\n{txt}\\n The sentiment categories are: \\n(1) Positive\\n(2) Negative\\n(3) Neutral\"\"\"\n",
    "user_prompt_3 = f\"\"\"The text below is a book review.\\nTell me the sentiment of the text here by returning only one label, which can be (1) Positive, (2) Negative, or (3) Neutral.\\nThe text is here:\\n{txt}\\n\n",
    "\"\"\"\n",
    "#prompt = f\"# Define model ID and prompt\n",
    "model_id = 'anthropic.claude-v2:1'\"\"System: {system_prompt}\\n\\nHuman: {user_prompt}\\n\\nAssistant:\"\"\"\n",
    "\n",
    "message_json_summary = getMessageJson(user_prompt_1)\n",
    "message_json_sentiment = getMessageJson(user_prompt_2)\n",
    "message_json_sentiment_label = getMessageJson(user_prompt_3)\n",
    "\n",
    "body_summary = getBodyJson(system_prompt, message_json_summary)\n",
    "body_sentiment = getBodyJson(system_prompt, message_json_sentiment)\n",
    "body_sentiment_label = getBodyJson(system_prompt, message_json_sentiment_label)\n"
   ]
  },
  {
   "cell_type": "code",
   "execution_count": 11,
   "id": "8a37e175-fa4d-4a3b-8301-6e2687a064d0",
   "metadata": {},
   "outputs": [],
   "source": [
    "# Define model ID\n",
    "model_id = 'anthropic.claude-v2:1'"
   ]
  },
  {
   "cell_type": "code",
   "execution_count": 12,
   "id": "7248f94e-414f-4355-9442-5e10d27f02bd",
   "metadata": {},
   "outputs": [
    {
     "name": "stdout",
     "output_type": "stream",
     "text": [
      "21:35:24\n",
      "21:35:36\n"
     ]
    }
   ],
   "source": [
    "# Get start time\n",
    "t0 = time.localtime()\n",
    "start_time = time.strftime(\"%H:%M:%S\", t0)\n",
    "print(start_time)\n",
    "\n",
    "# Get Anthropic response\n",
    "response_summary = client_bedrock.invoke_model(modelId=model_id, body=body_summary)\n",
    "\n",
    "# Get end time\n",
    "t1 = time.localtime()\n",
    "end_time = time.strftime(\"%H:%M:%S\", t1)\n",
    "print(end_time)"
   ]
  },
  {
   "cell_type": "code",
   "execution_count": 13,
   "id": "1f5cd485-c868-47c4-9596-1a007454e1a0",
   "metadata": {},
   "outputs": [
    {
     "name": "stdout",
     "output_type": "stream",
     "text": [
      "Difference (seconds): 12.0\n"
     ]
    }
   ],
   "source": [
    "# Difference \n",
    "diff_time = ( time.mktime(t1) - time.mktime(t0) )\n",
    "print(f\"Difference (seconds): {diff_time}\")"
   ]
  },
  {
   "cell_type": "code",
   "execution_count": 14,
   "id": "2e7a9c22-418b-49d2-b5ed-8e19c3fd81b1",
   "metadata": {},
   "outputs": [
    {
     "name": "stdout",
     "output_type": "stream",
     "text": [
      "21:35:39\n",
      "21:35:53\n"
     ]
    }
   ],
   "source": [
    "# Get start time\n",
    "t0 = time.localtime()\n",
    "start_time = time.strftime(\"%H:%M:%S\", t0)\n",
    "print(start_time)\n",
    "\n",
    "# Get Anthropic response\n",
    "response_sentiment = client_bedrock.invoke_model(modelId=model_id, body=body_sentiment)\n",
    "\n",
    "# Get end time\n",
    "t1 = time.localtime()\n",
    "end_time = time.strftime(\"%H:%M:%S\", t1)\n",
    "print(end_time)"
   ]
  },
  {
   "cell_type": "code",
   "execution_count": 15,
   "id": "3723bbb0-cb85-48b9-ac2c-3733691ed06a",
   "metadata": {},
   "outputs": [
    {
     "name": "stdout",
     "output_type": "stream",
     "text": [
      "Difference (seconds): 14.0\n"
     ]
    }
   ],
   "source": [
    "# Difference \n",
    "diff_time = ( time.mktime(t1) - time.mktime(t0) )\n",
    "print(f\"Difference (seconds): {diff_time}\")"
   ]
  },
  {
   "cell_type": "code",
   "execution_count": 16,
   "id": "d56dc515-c117-4e81-aad1-d84e53d8e12c",
   "metadata": {},
   "outputs": [
    {
     "name": "stdout",
     "output_type": "stream",
     "text": [
      "21:39:37\n",
      "21:39:46\n"
     ]
    }
   ],
   "source": [
    "# Get start time\n",
    "t0 = time.localtime()\n",
    "start_time = time.strftime(\"%H:%M:%S\", t0)\n",
    "print(start_time)\n",
    "\n",
    "# Get Anthropic response\n",
    "response_sentiment_label = client_bedrock.invoke_model(modelId=model_id, body=body_sentiment_label)\n",
    "\n",
    "# Get end time\n",
    "t1 = time.localtime()\n",
    "end_time = time.strftime(\"%H:%M:%S\", t1)\n",
    "print(end_time)"
   ]
  },
  {
   "cell_type": "code",
   "execution_count": 17,
   "id": "19a4ec99-6e7c-45c7-80e6-367ab0ad365b",
   "metadata": {},
   "outputs": [
    {
     "name": "stdout",
     "output_type": "stream",
     "text": [
      "Difference (seconds): 9.0\n"
     ]
    }
   ],
   "source": [
    "# Difference \n",
    "diff_time = ( time.mktime(t1) - time.mktime(t0) )\n",
    "print(f\"Difference (seconds): {diff_time}\")"
   ]
  },
  {
   "cell_type": "markdown",
   "id": "4295313e-4fd9-4100-8fc1-173d9685dbcb",
   "metadata": {},
   "source": [
    "# Response"
   ]
  },
  {
   "cell_type": "code",
   "execution_count": 18,
   "id": "06481241-f4dc-418b-aa91-1a17cdd923bd",
   "metadata": {},
   "outputs": [],
   "source": [
    "response_body_summary = json.loads(response_summary[\"body\"].read())"
   ]
  },
  {
   "cell_type": "code",
   "execution_count": 19,
   "id": "8abcaf41-aedb-4e51-a8ee-b13699f5095c",
   "metadata": {},
   "outputs": [
    {
     "name": "stdout",
     "output_type": "stream",
     "text": [
      "{'id': 'compl_017kf7c3cjgShP83dMGg4x7a', 'type': 'message', 'role': 'assistant', 'content': [{'type': 'text', 'text': 'Here is a one paragraph summary of the book review:\\n\\nThis is a positive review of the second book in the Matt Helm espionage thriller series, \"Mission Two: The Wrecking Crew\", which the reviewer says is even more violent than the first book. Helm is sent on a mission to the Arctic as a harmless photographer to identify and eliminate a mysterious Russian spy. He convincingly plays dumb, allowing himself to be betrayed and beaten to prove he is not a threat, while secretly unravelling the complex web of operatives. The plot intricacies and action climax showcase Helm’s ruthless cunning and skill. The geographical detail creates an immersive backdrop as Helm waits patiently for the order to “make the touch” on his target and save a woman in distress, cementing his legend as a coldly competent operative who outsmarts enemies using his intellect rather than weapons.'}], 'model': 'claude-2.1', 'stop_reason': 'end_turn', 'stop_sequence': None, 'usage': {'input_tokens': 1136, 'output_tokens': 190}}\n"
     ]
    }
   ],
   "source": [
    "print(response_body_summary)"
   ]
  },
  {
   "cell_type": "code",
   "execution_count": 20,
   "id": "a74a5d9b-313a-4d5d-bc2c-69f534b990ae",
   "metadata": {},
   "outputs": [
    {
     "name": "stdout",
     "output_type": "stream",
     "text": [
      "Here is a one paragraph summary of the book review:\n",
      "\n",
      "This is a positive review of the second book in the Matt Helm espionage thriller series, \"Mission Two: The Wrecking Crew\", which the reviewer says is even more violent than the first book. Helm is sent on a mission to the Arctic as a harmless photographer to identify and eliminate a mysterious Russian spy. He convincingly plays dumb, allowing himself to be betrayed and beaten to prove he is not a threat, while secretly unravelling the complex web of operatives. The plot intricacies and action climax showcase Helm’s ruthless cunning and skill. The geographical detail creates an immersive backdrop as Helm waits patiently for the order to “make the touch” on his target and save a woman in distress, cementing his legend as a coldly competent operative who outsmarts enemies using his intellect rather than weapons.\n"
     ]
    }
   ],
   "source": [
    "print(response_body_summary[\"content\"][0][\"text\"])"
   ]
  },
  {
   "cell_type": "code",
   "execution_count": 21,
   "id": "2a9d8bad-b2c8-4646-9021-69bb5c334092",
   "metadata": {},
   "outputs": [],
   "source": [
    "response_body_sentiment = json.loads(response_sentiment[\"body\"].read())"
   ]
  },
  {
   "cell_type": "code",
   "execution_count": 22,
   "id": "c42d7150-1781-4f23-be6d-b62870a34e9f",
   "metadata": {},
   "outputs": [
    {
     "name": "stdout",
     "output_type": "stream",
     "text": [
      "{'id': 'compl_01DbAc3Pz8zvUBRRwRquxX4A', 'type': 'message', 'role': 'assistant', 'content': [{'type': 'text', 'text': 'Based on the review, I would characterize the overall sentiment as positive. Here are the main reasons:\\n\\n1) The review praises the book as better than the first one in the series. Phrases like \"this one brings Helm into a whole new line of action\" and \"a good thing in any gritty espionage thriller\" indicate the reviewer enjoyed the second book more.\\n\\n2) The review highlights several positive aspects - the accuracy of details, the complexity of the plot and characters, the excitement of the climax. Phrases like \"wonderful and you can imagine yourself tracing his trail\", \"unraveling intricacies\", and \"puts up a classy display\" suggest admiration of the author\\'s skills.\\n\\n3) The review favors comparisons to James Bond movies, indicating the reviewer finds the realism and ruthlessness of the main character appealing. Lines like \"if you thought gadgets and expensive machinery with latest guns was the way an agent wins a war - you have watched too many James Bond movies\" reinforce this.\\n\\nWhile there are references to violence, the review seems to present it non-judgmentally, more as a factual aspect of the genre. There isn\\'t a strong negative tone.\\n\\nIn summary, the positive terminology, praise of writing and plot, and preference for realism over idealism suggest an overall positive sentiment. My classification would be:\\n\\n(1) Positive'}], 'model': 'claude-2.1', 'stop_reason': 'end_turn', 'stop_sequence': None, 'usage': {'input_tokens': 1154, 'output_tokens': 295}}\n"
     ]
    }
   ],
   "source": [
    "print(response_body_sentiment)"
   ]
  },
  {
   "cell_type": "code",
   "execution_count": 23,
   "id": "fe4ee324-22d7-440c-9e43-a3097c721da4",
   "metadata": {},
   "outputs": [
    {
     "name": "stdout",
     "output_type": "stream",
     "text": [
      "Based on the review, I would characterize the overall sentiment as positive. Here are the main reasons:\n",
      "\n",
      "1) The review praises the book as better than the first one in the series. Phrases like \"this one brings Helm into a whole new line of action\" and \"a good thing in any gritty espionage thriller\" indicate the reviewer enjoyed the second book more.\n",
      "\n",
      "2) The review highlights several positive aspects - the accuracy of details, the complexity of the plot and characters, the excitement of the climax. Phrases like \"wonderful and you can imagine yourself tracing his trail\", \"unraveling intricacies\", and \"puts up a classy display\" suggest admiration of the author's skills.\n",
      "\n",
      "3) The review favors comparisons to James Bond movies, indicating the reviewer finds the realism and ruthlessness of the main character appealing. Lines like \"if you thought gadgets and expensive machinery with latest guns was the way an agent wins a war - you have watched too many James Bond movies\" reinforce this.\n",
      "\n",
      "While there are references to violence, the review seems to present it non-judgmentally, more as a factual aspect of the genre. There isn't a strong negative tone.\n",
      "\n",
      "In summary, the positive terminology, praise of writing and plot, and preference for realism over idealism suggest an overall positive sentiment. My classification would be:\n",
      "\n",
      "(1) Positive\n"
     ]
    }
   ],
   "source": [
    "print(response_body_sentiment[\"content\"][0][\"text\"])"
   ]
  },
  {
   "cell_type": "code",
   "execution_count": 24,
   "id": "4e78d58e-b063-42fc-82f7-70f8d52570f1",
   "metadata": {},
   "outputs": [],
   "source": [
    "response_body_sentiment_label = json.loads(response_sentiment_label[\"body\"].read())"
   ]
  },
  {
   "cell_type": "code",
   "execution_count": 25,
   "id": "887bca14-bd5b-4d70-9b12-f890c88e945e",
   "metadata": {},
   "outputs": [
    {
     "name": "stdout",
     "output_type": "stream",
     "text": [
      "{'id': 'compl_01XwzKmCYHLbuizRE6uF4K4y', 'type': 'message', 'role': 'assistant', 'content': [{'type': 'text', 'text': 'Based on the content and tone of the review, I would categorize this as a Positive sentiment. The review praises various aspects of the book such as the plot, characters, settings, and the author\\'s writing style. Some key positive phrases include:\\n\\n\"Well the first one is beaten to grit and grim by this second one in the series.\"\\n\"This one brings Helm into a whole new line of action in espionage business.\"\\n\"The man is just right for the job.\"  \\n\"The violence is as bad if not worse than the first book - which is a good thing in any gritty espionage thriller.\"\\n\"The geographical descriptions and accuracy in detail is wonderful and you can imagine yourself tracing his trail across the mountains and into wilderness in the Arctic.\"\\n\"Putting up a classy display of ineptness, we also get to read about all that he could have done as a master agent but doesn\\'t to keep himself useful to the Russian agent\"\\n\\nThere are no overtly negative sentiments expressed. Therefore, I conclude this is a Positive review.'}], 'model': 'claude-2.1', 'stop_reason': 'end_turn', 'stop_sequence': None, 'usage': {'input_tokens': 1163, 'output_tokens': 229}}\n"
     ]
    }
   ],
   "source": [
    "print(response_body_sentiment_label)"
   ]
  },
  {
   "cell_type": "code",
   "execution_count": 26,
   "id": "ac688d35-4b29-4ee3-bae3-51c367ae7d62",
   "metadata": {},
   "outputs": [
    {
     "name": "stdout",
     "output_type": "stream",
     "text": [
      "Based on the content and tone of the review, I would categorize this as a Positive sentiment. The review praises various aspects of the book such as the plot, characters, settings, and the author's writing style. Some key positive phrases include:\n",
      "\n",
      "\"Well the first one is beaten to grit and grim by this second one in the series.\"\n",
      "\"This one brings Helm into a whole new line of action in espionage business.\"\n",
      "\"The man is just right for the job.\"  \n",
      "\"The violence is as bad if not worse than the first book - which is a good thing in any gritty espionage thriller.\"\n",
      "\"The geographical descriptions and accuracy in detail is wonderful and you can imagine yourself tracing his trail across the mountains and into wilderness in the Arctic.\"\n",
      "\"Putting up a classy display of ineptness, we also get to read about all that he could have done as a master agent but doesn't to keep himself useful to the Russian agent\"\n",
      "\n",
      "There are no overtly negative sentiments expressed. Therefore, I conclude this is a Positive review.\n"
     ]
    }
   ],
   "source": [
    "print(response_body_sentiment_label[\"content\"][0][\"text\"])"
   ]
  },
  {
   "cell_type": "markdown",
   "id": "95098666-c634-4978-a566-5902f3ff2070",
   "metadata": {},
   "source": [
    "# Using Claude 3 Haiku"
   ]
  },
  {
   "cell_type": "code",
   "execution_count": 27,
   "id": "0442fe49-c85c-44d0-a670-0b802e2df764",
   "metadata": {},
   "outputs": [],
   "source": [
    "# Define model ID and prompt\n",
    "model_id = 'anthropic.claude-3-haiku-20240307-v1:0'\n"
   ]
  },
  {
   "cell_type": "code",
   "execution_count": 28,
   "id": "977c2e7e-6706-4f6a-89ac-770e17d8dd32",
   "metadata": {},
   "outputs": [
    {
     "name": "stdout",
     "output_type": "stream",
     "text": [
      "21:40:15\n",
      "21:40:18\n"
     ]
    }
   ],
   "source": [
    "# Get start time\n",
    "t0 = time.localtime()\n",
    "start_time = time.strftime(\"%H:%M:%S\", t0)\n",
    "print(start_time)\n",
    "\n",
    "# Get Anthropic response\n",
    "response_summary = client_bedrock.invoke_model(modelId=model_id, body=body_summary)\n",
    "\n",
    "# Get end time\n",
    "t1 = time.localtime()\n",
    "end_time = time.strftime(\"%H:%M:%S\", t1)\n",
    "print(end_time)"
   ]
  },
  {
   "cell_type": "code",
   "execution_count": 29,
   "id": "b721df41-c247-415a-a4fe-7ab2a2b32686",
   "metadata": {},
   "outputs": [
    {
     "name": "stdout",
     "output_type": "stream",
     "text": [
      "Difference (seconds): 3.0\n"
     ]
    }
   ],
   "source": [
    "# Difference \n",
    "diff_time = ( time.mktime(t1) - time.mktime(t0) )\n",
    "print(f\"Difference (seconds): {diff_time}\")"
   ]
  },
  {
   "cell_type": "code",
   "execution_count": 30,
   "id": "74a9d852-7bb0-4ca5-adc6-18def32e94b1",
   "metadata": {},
   "outputs": [],
   "source": [
    "response_body = json.loads(response_summary[\"body\"].read())"
   ]
  },
  {
   "cell_type": "code",
   "execution_count": 31,
   "id": "e7f70362-ad91-4d53-bea5-1a00b69b618b",
   "metadata": {},
   "outputs": [
    {
     "name": "stdout",
     "output_type": "stream",
     "text": [
      "{'id': 'msg_01Eack1JVTXWzunERZWVowz8', 'type': 'message', 'role': 'assistant', 'content': [{'type': 'text', 'text': 'The review discusses the second book in the Matt Helm series, \"The Wrecking Crew.\" It highlights how this installment brings Helm into a new realm of espionage, where he must play the role of a clumsy, aging World War II veteran photographer to infiltrate a mission in Arctic Europe. The review praises the book\\'s gritty and violent nature, as well as the accurate geographical descriptions and Helm\\'s calculated approach to his mission, which involves outsmarting his targets and proving himself harmless until the time is right for him to strike. The review also notes Helm\\'s ability to surprise even his own government\\'s operatives with his cunning and ruthlessness, and the book\\'s emphasis on the mental aspect of espionage rather than relying on gadgets or brute force. Overall, the review suggests that this sequel in the Matt Helm series is a compelling and realistic portrayal of a secret agent\\'s work in a foreign country during peacetime.'}], 'model': 'claude-3-haiku-48k-20240307', 'stop_reason': 'end_turn', 'stop_sequence': None, 'usage': {'input_tokens': 1161, 'output_tokens': 209}}\n"
     ]
    }
   ],
   "source": [
    "print(response_body)"
   ]
  },
  {
   "cell_type": "code",
   "execution_count": 32,
   "id": "9742ff4f-380d-4e74-ab6c-6bebd2e3b5ce",
   "metadata": {},
   "outputs": [
    {
     "name": "stdout",
     "output_type": "stream",
     "text": [
      "The review discusses the second book in the Matt Helm series, \"The Wrecking Crew.\" It highlights how this installment brings Helm into a new realm of espionage, where he must play the role of a clumsy, aging World War II veteran photographer to infiltrate a mission in Arctic Europe. The review praises the book's gritty and violent nature, as well as the accurate geographical descriptions and Helm's calculated approach to his mission, which involves outsmarting his targets and proving himself harmless until the time is right for him to strike. The review also notes Helm's ability to surprise even his own government's operatives with his cunning and ruthlessness, and the book's emphasis on the mental aspect of espionage rather than relying on gadgets or brute force. Overall, the review suggests that this sequel in the Matt Helm series is a compelling and realistic portrayal of a secret agent's work in a foreign country during peacetime.\n"
     ]
    }
   ],
   "source": [
    "print(response_body[\"content\"][0][\"text\"])"
   ]
  },
  {
   "cell_type": "code",
   "execution_count": 33,
   "id": "bd9b5bb0-960e-4f74-9605-99452d20d364",
   "metadata": {},
   "outputs": [
    {
     "name": "stdout",
     "output_type": "stream",
     "text": [
      "21:40:23\n",
      "21:40:26\n"
     ]
    }
   ],
   "source": [
    "# Get start time\n",
    "t0 = time.localtime()\n",
    "start_time = time.strftime(\"%H:%M:%S\", t0)\n",
    "print(start_time)\n",
    "\n",
    "# Get Anthropic response\n",
    "response_sentiment = client_bedrock.invoke_model(modelId=model_id, body=body_sentiment)\n",
    "\n",
    "# Get end time\n",
    "t1 = time.localtime()\n",
    "end_time = time.strftime(\"%H:%M:%S\", t1)\n",
    "print(end_time)"
   ]
  },
  {
   "cell_type": "code",
   "execution_count": 34,
   "id": "7f8d6240-edd9-485b-aadf-822f7fb2bd82",
   "metadata": {},
   "outputs": [
    {
     "name": "stdout",
     "output_type": "stream",
     "text": [
      "Difference (seconds): 3.0\n"
     ]
    }
   ],
   "source": [
    "# Difference \n",
    "diff_time = ( time.mktime(t1) - time.mktime(t0) )\n",
    "print(f\"Difference (seconds): {diff_time}\")"
   ]
  },
  {
   "cell_type": "code",
   "execution_count": 35,
   "id": "2c6a7546-ea72-4b45-a8c1-d241ec3fef32",
   "metadata": {},
   "outputs": [],
   "source": [
    "response_body = json.loads(response_sentiment[\"body\"].read())"
   ]
  },
  {
   "cell_type": "code",
   "execution_count": 36,
   "id": "70ede412-b384-4804-8975-234347c4e4a5",
   "metadata": {},
   "outputs": [
    {
     "name": "stdout",
     "output_type": "stream",
     "text": [
      "{'id': 'msg_013JFNpgrvsAs4rqxv3wzZrF', 'type': 'message', 'role': 'assistant', 'content': [{'type': 'text', 'text': 'The sentiment of the book review is predominantly positive. The reviewer seems to appreciate the depth and complexity of the Matt Helm character, as well as the realistic and gritty nature of the espionage action depicted in the book. Some key points that indicate a positive sentiment:\\n\\n1. The reviewer states that the violence in this book is \"as bad if not worse than the first book - which is a good thing in any gritty espionage thriller.\"\\n\\n2. The reviewer praises the geographical descriptions and accuracy in detail, saying \"you can imagine yourself tracing his trail across the mountains and into wilderness in the Arctic.\"\\n\\n3. The reviewer appreciates how the book shows \"in a believable and clinical clarity how a secret agent would go through with his mission in a foreign country.\"\\n\\n4. The reviewer highlights positive attributes of the main character, Matt Helm, such as his cunning, ruthlessness, and ability to use his mind rather than just rely on gadgets and firearms.\\n\\nOverall, the review conveys a very favorable impression of the book and the Matt Helm series, indicating a positive sentiment.'}], 'model': 'claude-3-haiku-48k-20240307', 'stop_reason': 'end_turn', 'stop_sequence': None, 'usage': {'input_tokens': 1182, 'output_tokens': 236}}\n"
     ]
    }
   ],
   "source": [
    "print(response_body)"
   ]
  },
  {
   "cell_type": "code",
   "execution_count": 37,
   "id": "67c8ae1b-be1c-4735-af7e-65d58f21af7a",
   "metadata": {},
   "outputs": [
    {
     "name": "stdout",
     "output_type": "stream",
     "text": [
      "The sentiment of the book review is predominantly positive. The reviewer seems to appreciate the depth and complexity of the Matt Helm character, as well as the realistic and gritty nature of the espionage action depicted in the book. Some key points that indicate a positive sentiment:\n",
      "\n",
      "1. The reviewer states that the violence in this book is \"as bad if not worse than the first book - which is a good thing in any gritty espionage thriller.\"\n",
      "\n",
      "2. The reviewer praises the geographical descriptions and accuracy in detail, saying \"you can imagine yourself tracing his trail across the mountains and into wilderness in the Arctic.\"\n",
      "\n",
      "3. The reviewer appreciates how the book shows \"in a believable and clinical clarity how a secret agent would go through with his mission in a foreign country.\"\n",
      "\n",
      "4. The reviewer highlights positive attributes of the main character, Matt Helm, such as his cunning, ruthlessness, and ability to use his mind rather than just rely on gadgets and firearms.\n",
      "\n",
      "Overall, the review conveys a very favorable impression of the book and the Matt Helm series, indicating a positive sentiment.\n"
     ]
    }
   ],
   "source": [
    "print(response_body[\"content\"][0][\"text\"])"
   ]
  },
  {
   "cell_type": "code",
   "execution_count": 38,
   "id": "fa2c777b-08b3-4f24-b07f-435dd8771059",
   "metadata": {},
   "outputs": [
    {
     "name": "stdout",
     "output_type": "stream",
     "text": [
      "21:40:46\n",
      "21:40:47\n"
     ]
    }
   ],
   "source": [
    "# Get start time\n",
    "t0 = time.localtime()\n",
    "start_time = time.strftime(\"%H:%M:%S\", t0)\n",
    "print(start_time)\n",
    "\n",
    "# Get Anthropic response\n",
    "response_sentiment_label = client_bedrock.invoke_model(modelId=model_id, body=body_sentiment_label)\n",
    "\n",
    "# Get end time\n",
    "t1 = time.localtime()\n",
    "end_time = time.strftime(\"%H:%M:%S\", t1)\n",
    "print(end_time)"
   ]
  },
  {
   "cell_type": "code",
   "execution_count": 39,
   "id": "72581110-1512-4e65-aa2a-8c12415b43cc",
   "metadata": {},
   "outputs": [
    {
     "name": "stdout",
     "output_type": "stream",
     "text": [
      "Difference (seconds): 1.0\n"
     ]
    }
   ],
   "source": [
    "# Difference \n",
    "diff_time = ( time.mktime(t1) - time.mktime(t0) )\n",
    "print(f\"Difference (seconds): {diff_time}\")"
   ]
  },
  {
   "cell_type": "code",
   "execution_count": 40,
   "id": "7c08bd22-9845-48fd-b544-14aa245648d8",
   "metadata": {},
   "outputs": [],
   "source": [
    "response_body = json.loads(response_sentiment_label[\"body\"].read())"
   ]
  },
  {
   "cell_type": "code",
   "execution_count": 41,
   "id": "06d2df41-0fd1-427e-8c5a-000700ce627b",
   "metadata": {},
   "outputs": [
    {
     "name": "stdout",
     "output_type": "stream",
     "text": [
      "{'id': 'msg_015pshHVET17UHDYFnGZm3L5', 'type': 'message', 'role': 'assistant', 'content': [{'type': 'text', 'text': 'The sentiment of the text is Positive.'}], 'model': 'claude-3-haiku-48k-20240307', 'stop_reason': 'end_turn', 'stop_sequence': None, 'usage': {'input_tokens': 1190, 'output_tokens': 12}}\n"
     ]
    }
   ],
   "source": [
    "print(response_body)"
   ]
  },
  {
   "cell_type": "code",
   "execution_count": 42,
   "id": "61260410-ad02-4815-a614-6b1b994f6d4d",
   "metadata": {},
   "outputs": [
    {
     "name": "stdout",
     "output_type": "stream",
     "text": [
      "The sentiment of the text is Positive.\n"
     ]
    }
   ],
   "source": [
    "print(response_body[\"content\"][0][\"text\"])"
   ]
  },
  {
   "cell_type": "code",
   "execution_count": null,
   "id": "aa7e3a88-fb18-40b3-8054-8eaa6aa7253d",
   "metadata": {},
   "outputs": [],
   "source": []
  }
 ],
 "metadata": {
  "kernelspec": {
   "display_name": "Python 3 (ipykernel)",
   "language": "python",
   "name": "python3"
  },
  "language_info": {
   "codemirror_mode": {
    "name": "ipython",
    "version": 3
   },
   "file_extension": ".py",
   "mimetype": "text/x-python",
   "name": "python",
   "nbconvert_exporter": "python",
   "pygments_lexer": "ipython3",
   "version": "3.10.12"
  }
 },
 "nbformat": 4,
 "nbformat_minor": 5
}
