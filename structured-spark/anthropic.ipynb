{
 "cells": [
  {
   "cell_type": "code",
   "execution_count": 1,
   "id": "22173b71-ed18-4e13-ba6e-f14d95c6dcf6",
   "metadata": {},
   "outputs": [
    {
     "name": "stderr",
     "output_type": "stream",
     "text": [
      "/home/ubuntu/.local/lib/python3.10/site-packages/tqdm/auto.py:21: TqdmWarning: IProgress not found. Please update jupyter and ipywidgets. See https://ipywidgets.readthedocs.io/en/stable/user_install.html\n",
      "  from .autonotebook import tqdm as notebook_tqdm\n"
     ]
    }
   ],
   "source": [
    "import json\n",
    "import boto3\n",
    "import time\n",
    "from anthropic import Anthropic \n",
    "from botocore.exceptions import ClientError\n",
    "from chunkipy import TextChunker, TokenEstimator\n",
    "from transformers import AutoTokenizer #, BertTokenizer, pipeline"
   ]
  },
  {
   "cell_type": "code",
   "execution_count": 2,
   "id": "f8610574-cab1-45f6-996f-7905ee1cc7f0",
   "metadata": {},
   "outputs": [],
   "source": [
    "class BertTokenEstimator(TokenEstimator):\n",
    "    def __init__(self):\n",
    "        self.bert_tokenizer = AutoTokenizer.from_pretrained(\"bert-base-uncased\")\n",
    "\n",
    "    def estimate_tokens(self, text):\n",
    "        return len(self.bert_tokenizer.encode(text))"
   ]
  },
  {
   "cell_type": "code",
   "execution_count": 3,
   "id": "e6243800-db15-41a3-a7c0-a658d3414c00",
   "metadata": {},
   "outputs": [],
   "source": [
    "# Initialize BertEstimator\n",
    "bert_token_estimator = BertTokenEstimator()"
   ]
  },
  {
   "cell_type": "code",
   "execution_count": 4,
   "id": "2db36965-a387-42a0-b6f2-82627f236473",
   "metadata": {},
   "outputs": [],
   "source": [
    "REGION = \"us-east-1\""
   ]
  },
  {
   "cell_type": "code",
   "execution_count": 5,
   "id": "35fad643-a4fa-4409-ba28-3dec7386d342",
   "metadata": {},
   "outputs": [],
   "source": [
    "client_bedrock = boto3.client(\"bedrock-runtime\", REGION)"
   ]
  },
  {
   "cell_type": "code",
   "execution_count": 6,
   "id": "5546728c-381e-4a3a-8edf-b54285c6d51f",
   "metadata": {},
   "outputs": [],
   "source": [
    "txt = \"\"\"Mission Two: The Wrecking Crew\n",
    "Matt Helm series Reviews by Ujjwal Dey\n",
    "\n",
    "Well the first one is beaten to grit and grim by this second one in the series. A little longer at 176 pages, still an easy read for my weekend; this one brings Helm into a whole new line of action in espionage business.\n",
    "\n",
    "Now Matt Helm has had his refresher course in the covert groups training - the American Mordgruppe - The Wrecking Crew - an unknown, unspoken elite group of operatives who generally work alone to do what armies and clouts of bureaucrats can't achieve. The man is just right for the job. The trainers believe he is in no shape to be an operative and certainly past his prime. His bad new resume was certain to get him killed on a field mission. Mac agrees - he is just the man for this job.\n",
    "\n",
    "Matt Helm now has to play dumb; to act like a clumsy ancient World War trooper who can't call the shots in this peacetime covert warfare. As a photographer for an American magazine he lands up in Artic Europe to shoot innocent bland photos of mines for a girl who could be a double-agent or simply a fool in this foolish game. The girl in question has survived a bullet meant for her journalist husband who had the gall to write a tale describing a Russian agent - The Man No one Knows. Of course this deadly Russian operative has no sympathy for such breakthrough journalism, and now the supposed widow is carrying out her husband's journalistic inclinations.\n",
    "\n",
    "There is more than meets the eye and pretty women are lethal in more ways than one. Helm's contact in Sweden is shot dead in the face, double-crossed by her evil mysterious agent. Helm has to contend with getting bruised and bashed around to prove himself harmless to a variety of operatives - biding his time to get his orders.\n",
    "\n",
    "Yes, the men in Washington call off lethal action - no Government ordered assassination during peacetime - but that is not a restriction upon Helm's enemies. Matt Helm goes through unraveling intricacies in the players' cards, as a poker player who has to display ignorance of any known card game. As people show up dead around him, things come to light and when the final game is afoot - Matt has the aces up his sleeve to vindicate Mac's faith in him.\n",
    "\n",
    "The violence is as bad if not worse than the first book - which is a good thing in any gritty espionage thriller. The brief reflections on the first book events such as him carving up an old lady friend and his separation from his wife also come up very much accurately into the new plot. His handiness without a gun is seen very well in this story as essentially he has to go out there unarmed to convincingly play the role of an American photographer, even if the cover doesn't fool his targets.\n",
    "\n",
    "The geographical descriptions and accuracy in detail is wonderful and you can imagine yourself tracing his trail across the mountains and into wilderness in the Arctic. He has to \"make the touch\" - Group M speak for killing the target - similar to what mafia would say \"making a hit\". But he has to be patient enough to identify the mysterious Russian spy, wait for the go ahead from his Boss, and then make sure he does it cleanly - being in a friendly country during peacetime.\n",
    "\n",
    "Putting up a classy display of ineptness, we also get to read about all that he could have done as a master agent but doesn't to keep himself useful to the Russian agent - he is able to prove himself harmless on more than one occasion until finally its time for a showdown.\n",
    "\n",
    "Cars, guns, women's choice of clothes, all again feature in this sequel in Matt Helm's ponderings. There are women he trusts and they assuredly betray him and Helm is not one to be heartbroken or sentimental - he goes about his business with determination and calculation - even surprising his own Government's other operatives (of other departments) - who fall for his \"clumsy\" act. At the end Helm proves himself to be as cunning and ruthless as his Russian rival. The climax action with its cold-blooded moves sees Helm make his touch and save a damsel from distress as well. The last chapter adds more to Helm's personality and legend. His un-emotive demeanour at what could have been a tragic romantic scene ensures he is the man with a job he is good at.\n",
    "\n",
    "If you thought gadgets and expensive machinery with latest guns was the way an agent wins a war - you have watched too many James Bond movies. This book's account shows us in a believable and clinical clarity how a secret agent would go through with his mission in a foreign country. Matt Helm is no great fist-fighter but he knows how to fight and here we see him use more of the matter between his ears in contrast to the trigger in enemy hands.\n",
    "\n",
    "Extract: When you act like a nice guy, everyone examines your motives with a microscope. When you act like a conscienceless louse, they generally take you at face value.\"\"\""
   ]
  },
  {
   "cell_type": "code",
   "execution_count": 7,
   "id": "bbed01b4-1e33-4108-a95a-e2fcde4048d7",
   "metadata": {},
   "outputs": [
    {
     "name": "stderr",
     "output_type": "stream",
     "text": [
      "Token indices sequence length is longer than the specified maximum sequence length for this model (1040 > 512). Running this sequence through the model will result in indexing errors\n"
     ]
    },
    {
     "name": "stdout",
     "output_type": "stream",
     "text": [
      "1040\n"
     ]
    }
   ],
   "source": [
    "token_count = bert_token_estimator.estimate_tokens(txt)\n",
    "print(token_count)"
   ]
  },
  {
   "cell_type": "code",
   "execution_count": 8,
   "id": "02461667-8887-4271-af5f-468e3882306c",
   "metadata": {},
   "outputs": [],
   "source": [
    "# Define model ID and prompt\n",
    "model_id = 'anthropic.claude-v2:1'\n",
    "system_prompt = \"All your output has to be grammatically correct in a single paragraph\"\n",
    "user_prompt = f\"\"\"Write a summary of the following review:\\n{txt}\"\"\"\n",
    "prompt = f\"\"\"System: {system_prompt}\\n\\nHuman: {user_prompt}\\n\\nAssistant:\"\"\"\n",
    "\n",
    "message_json = {\n",
    "    \"role\": \"user\",\n",
    "    \"content\": [\n",
    "       {\n",
    "           \"type\": \"text\",\n",
    "           \"text\": user_prompt\n",
    "       }\n",
    "    ]\n",
    "}\n",
    "\n",
    "body = json.dumps({\n",
    "    \"max_tokens\": 2048,\n",
    "    \"temperature\": 0.5,\n",
    "    \"messages\": [ message_json ],\n",
    "    \"anthropic_version\": \"bedrock-2023-05-31\"\n",
    "})\n"
   ]
  },
  {
   "cell_type": "code",
   "execution_count": 9,
   "id": "7248f94e-414f-4355-9442-5e10d27f02bd",
   "metadata": {},
   "outputs": [
    {
     "name": "stdout",
     "output_type": "stream",
     "text": [
      "14:59:02\n",
      "14:59:17\n"
     ]
    }
   ],
   "source": [
    "# Get start time\n",
    "t0 = time.localtime()\n",
    "start_time = time.strftime(\"%H:%M:%S\", t0)\n",
    "print(start_time)\n",
    "\n",
    "# Get Anthropic response\n",
    "response = client_bedrock.invoke_model(modelId=model_id, body=body)\n",
    "\n",
    "# Get end time\n",
    "t1 = time.localtime()\n",
    "end_time = time.strftime(\"%H:%M:%S\", t1)\n",
    "print(end_time)"
   ]
  },
  {
   "cell_type": "code",
   "execution_count": 10,
   "id": "3723bbb0-cb85-48b9-ac2c-3733691ed06a",
   "metadata": {},
   "outputs": [
    {
     "name": "stdout",
     "output_type": "stream",
     "text": [
      "Difference (seconds): 15.0\n"
     ]
    }
   ],
   "source": [
    "# Difference \n",
    "diff_time = ( time.mktime(t1) - time.mktime(t0) )\n",
    "print(f\"Difference (seconds): {diff_time}\")"
   ]
  },
  {
   "cell_type": "code",
   "execution_count": 11,
   "id": "06481241-f4dc-418b-aa91-1a17cdd923bd",
   "metadata": {},
   "outputs": [],
   "source": [
    "response_body = json.loads(response[\"body\"].read())"
   ]
  },
  {
   "cell_type": "code",
   "execution_count": 12,
   "id": "a74a5d9b-313a-4d5d-bc2c-69f534b990ae",
   "metadata": {},
   "outputs": [
    {
     "name": "stdout",
     "output_type": "stream",
     "text": [
      "Here is a summary of the review:\n",
      "\n",
      "This is a review of the second book in the Matt Helm spy thriller series, \"The Wrecking Crew.\" The review praises this sequel as being even better than the first book, with more action and violence. The plot involves Helm going on a mission to the Arctic as a photographer, where he must identify and eliminate a mysterious Russian agent. Helm acts clumsy and harmless as part of his cover, while navigating intrigues with potential double agents. The review highlights the accurate details, locations, action sequences, and cold-blooded nature of Helm's spy craft. It notes Helm's detachment and lack of emotion even in romantic situations. The review states this book shows the cerebral tactics and ruthlessness needed in real-world espionage, contrasting it favorably to flashy James Bond-style stories. It concludes by saying Helm proves as cunning as his Russian rival target in the climactic confrontation.\n"
     ]
    }
   ],
   "source": [
    "print(response_body[\"content\"][0][\"text\"])"
   ]
  },
  {
   "cell_type": "markdown",
   "id": "95098666-c634-4978-a566-5902f3ff2070",
   "metadata": {},
   "source": [
    "# Using Claude 3 Haiku"
   ]
  },
  {
   "cell_type": "code",
   "execution_count": 13,
   "id": "0442fe49-c85c-44d0-a670-0b802e2df764",
   "metadata": {},
   "outputs": [],
   "source": [
    "# Define model ID and prompt\n",
    "model_id = 'anthropic.claude-3-haiku-20240307-v1:0'\n",
    "system_prompt = \"All your output has to be grammatically correct in a single paragraph\"\n",
    "user_prompt = f\"\"\"Write a summary of the following review:\\n{txt}\"\"\"\n",
    "prompt = f\"\"\"System: {system_prompt}\\n\\nHuman: {user_prompt}\\n\\nAssistant:\"\"\"\n",
    "\n",
    "message_json = {\n",
    "    \"role\": \"user\",\n",
    "    \"content\": [\n",
    "       {\n",
    "           \"type\": \"text\",\n",
    "           \"text\": user_prompt\n",
    "       }\n",
    "    ]\n",
    "}\n",
    "\n",
    "body = json.dumps({\n",
    "    \"max_tokens\": 2048,\n",
    "    \"temperature\": 0.5,\n",
    "    \"messages\": [ message_json ],\n",
    "    \"anthropic_version\": \"bedrock-2023-05-31\"\n",
    "})\n"
   ]
  },
  {
   "cell_type": "code",
   "execution_count": 14,
   "id": "977c2e7e-6706-4f6a-89ac-770e17d8dd32",
   "metadata": {},
   "outputs": [
    {
     "name": "stdout",
     "output_type": "stream",
     "text": [
      "14:59:45\n",
      "14:59:49\n"
     ]
    }
   ],
   "source": [
    "# Get start time\n",
    "t0 = time.localtime()\n",
    "start_time = time.strftime(\"%H:%M:%S\", t0)\n",
    "print(start_time)\n",
    "\n",
    "# Get Anthropic response\n",
    "response = client_bedrock.invoke_model(modelId=model_id, body=body)\n",
    "\n",
    "# Get end time\n",
    "t1 = time.localtime()\n",
    "end_time = time.strftime(\"%H:%M:%S\", t1)\n",
    "print(end_time)"
   ]
  },
  {
   "cell_type": "code",
   "execution_count": 15,
   "id": "b721df41-c247-415a-a4fe-7ab2a2b32686",
   "metadata": {},
   "outputs": [
    {
     "name": "stdout",
     "output_type": "stream",
     "text": [
      "Difference (seconds): 4.0\n"
     ]
    }
   ],
   "source": [
    "# Difference \n",
    "diff_time = ( time.mktime(t1) - time.mktime(t0) )\n",
    "print(f\"Difference (seconds): {diff_time}\")"
   ]
  },
  {
   "cell_type": "code",
   "execution_count": 16,
   "id": "74a9d852-7bb0-4ca5-adc6-18def32e94b1",
   "metadata": {},
   "outputs": [],
   "source": [
    "response_body = json.loads(response[\"body\"].read())"
   ]
  },
  {
   "cell_type": "code",
   "execution_count": 17,
   "id": "9742ff4f-380d-4e74-ab6c-6bebd2e3b5ce",
   "metadata": {},
   "outputs": [
    {
     "name": "stdout",
     "output_type": "stream",
     "text": [
      "Here is a summary of the review:\n",
      "\n",
      "The review discusses the second book in the Matt Helm series, \"The Wrecking Crew\". It notes that this book is longer than the first at 176 pages, but still an easy weekend read. \n",
      "\n",
      "The review explains that in this book, Matt Helm has gone through training with a covert American group called \"The Wrecking Crew\", an elite group of operatives. Despite being seen as past his prime, Helm is selected for a mission where he has to play the role of a clumsy, aging photographer in order to gather intelligence.\n",
      "\n",
      "The review highlights Helm's cunning and ruthlessness as he navigates the intricacies of the mission, which involves a mysterious Russian agent and various double-agents and operatives. Helm has to bide his time and play the part of the harmless photographer, all while gathering the information he needs to complete his objective.\n",
      "\n",
      "The review praises the vivid geographical descriptions and Helm's ability to use his mind rather than just brute force to overcome challenges. It notes that Helm is not a great fighter, but is highly skilled at using his intelligence. The review also comments on Helm's cold, unemotional demeanor, which serves him well in his line of work.\n",
      "\n",
      "Overall, the review suggests that this second book in the Matt Helm series is a well-written, gritty espionage thriller that provides a more realistic depiction of secret agent work compared to more fantastical portrayals in media like James Bond.\n"
     ]
    }
   ],
   "source": [
    "print(response_body[\"content\"][0][\"text\"])"
   ]
  },
  {
   "cell_type": "code",
   "execution_count": null,
   "id": "bd9b5bb0-960e-4f74-9605-99452d20d364",
   "metadata": {},
   "outputs": [],
   "source": []
  }
 ],
 "metadata": {
  "kernelspec": {
   "display_name": "Python 3 (ipykernel)",
   "language": "python",
   "name": "python3"
  },
  "language_info": {
   "codemirror_mode": {
    "name": "ipython",
    "version": 3
   },
   "file_extension": ".py",
   "mimetype": "text/x-python",
   "name": "python",
   "nbconvert_exporter": "python",
   "pygments_lexer": "ipython3",
   "version": "3.10.12"
  }
 },
 "nbformat": 4,
 "nbformat_minor": 5
}
