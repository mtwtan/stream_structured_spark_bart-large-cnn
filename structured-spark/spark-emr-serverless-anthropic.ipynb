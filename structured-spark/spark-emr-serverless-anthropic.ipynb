{
 "cells": [
  {
   "cell_type": "code",
   "execution_count": 1,
   "id": "4ef14b81-16f3-4310-880a-710f5025c560",
   "metadata": {
    "execution": {
     "iopub.execute_input": "2024-03-19T18:19:06.068228Z",
     "iopub.status.busy": "2024-03-19T18:19:06.067580Z",
     "iopub.status.idle": "2024-03-19T18:19:06.154514Z",
     "shell.execute_reply": "2024-03-19T18:19:06.153910Z",
     "shell.execute_reply.started": "2024-03-19T18:19:06.068195Z"
    },
    "tags": []
   },
   "outputs": [
    {
     "data": {
      "text/html": [
       "Current session configs: <tt>{'conf': {'spark.sql.extensions': 'io.delta.sql.DeltaSparkSessionExtension', 'spark.sql.catalog.spark_catalog': 'org.apache.spark.sql.delta.catalog.DeltaCatalog', 'spark.jars': 'file:///usr/share/aws/delta/lib/delta-storage.jar,file:///usr/share/aws/delta/lib/delta-spark.jar'}, 'driverMemory': '14G', 'driverCores': 4, 'executorMemory': '14G', 'executorCores': 4, 'numExecutors': 3, 'proxyUser': 'user_mtwtan', 'kind': 'pyspark'}</tt><br>"
      ],
      "text/plain": [
       "<IPython.core.display.HTML object>"
      ]
     },
     "metadata": {},
     "output_type": "display_data"
    },
    {
     "data": {
      "text/html": [
       "No active sessions."
      ],
      "text/plain": [
       "<IPython.core.display.HTML object>"
      ]
     },
     "metadata": {},
     "output_type": "display_data"
    }
   ],
   "source": [
    "%%configure -f\n",
    "{\n",
    "  \"conf\": {\n",
    "      \"spark.sql.extensions\":  \"io.delta.sql.DeltaSparkSessionExtension\",\n",
    "      \"spark.sql.catalog.spark_catalog\":  \"org.apache.spark.sql.delta.catalog.DeltaCatalog\",\n",
    "      \"spark.jars\": \"file:///usr/share/aws/delta/lib/delta-storage.jar,file:///usr/share/aws/delta/lib/delta-spark.jar\",\n",
    "      \"spark.sql.catalog.spark_catalog\": \"org.apache.spark.sql.delta.catalog.DeltaCatalog\"\n",
    "  }\n",
    "}"
   ]
  },
  {
   "cell_type": "code",
   "execution_count": null,
   "id": "2e89ab50-107f-4a3c-9bc5-d2c8a1d80b59",
   "metadata": {
    "tags": []
   },
   "outputs": [],
   "source": [
    "spark"
   ]
  },
  {
   "cell_type": "code",
   "execution_count": 3,
   "id": "5e502dbd-4183-46d6-a5bb-818c7748078b",
   "metadata": {
    "execution": {
     "iopub.execute_input": "2024-03-19T18:21:43.255983Z",
     "iopub.status.busy": "2024-03-19T18:21:43.255338Z",
     "iopub.status.idle": "2024-03-19T18:21:45.138067Z",
     "shell.execute_reply": "2024-03-19T18:21:45.137477Z",
     "shell.execute_reply.started": "2024-03-19T18:21:43.255951Z"
    },
    "tags": []
   },
   "outputs": [
    {
     "data": {
      "application/vnd.jupyter.widget-view+json": {
       "model_id": "8f56dc606674446e973fce08d0ccb777",
       "version_major": 2,
       "version_minor": 0
      },
      "text/plain": [
       "VBox()"
      ]
     },
     "metadata": {},
     "output_type": "display_data"
    },
    {
     "data": {
      "application/vnd.jupyter.widget-view+json": {
       "model_id": "",
       "version_major": 2,
       "version_minor": 0
      },
      "text/plain": [
       "FloatProgress(value=0.0, bar_style='info', description='Progress:', layout=Layout(height='25px', width='50%'),…"
      ]
     },
     "metadata": {},
     "output_type": "display_data"
    },
    {
     "name": "stdout",
     "output_type": "stream",
     "text": [
      "{'UserId': 'AROATKTHTIZOAAMGOZCQO:00fhtkhd7vv1kl09,00fhtnkn92tqt10a', 'Account': '228924278364', 'Arn': 'arn:aws:sts::228924278364:assumed-role/emrserverless-jobrole-sony-demo/00fhtkhd7vv1kl09,00fhtnkn92tqt10a', 'ResponseMetadata': {'RequestId': '24929d24-1534-40c2-8d36-c993fd6e96f1', 'HTTPStatusCode': 200, 'HTTPHeaders': {'x-amzn-requestid': '24929d24-1534-40c2-8d36-c993fd6e96f1', 'content-type': 'text/xml', 'content-length': '504', 'date': 'Tue, 19 Mar 2024 18:21:44 GMT'}, 'RetryAttempts': 0}}"
     ]
    }
   ],
   "source": [
    "sts = boto3.client('sts')\n",
    "response = sts.get_caller_identity()\n",
    "print(response)"
   ]
  },
  {
   "cell_type": "code",
   "execution_count": 2,
   "id": "4237b59e-c9bb-4b94-be9a-ea4db276e33d",
   "metadata": {
    "execution": {
     "iopub.execute_input": "2024-03-19T18:19:11.013832Z",
     "iopub.status.busy": "2024-03-19T18:19:11.013195Z",
     "iopub.status.idle": "2024-03-19T18:21:11.185784Z",
     "shell.execute_reply": "2024-03-19T18:21:11.185175Z",
     "shell.execute_reply.started": "2024-03-19T18:19:11.013801Z"
    }
   },
   "outputs": [
    {
     "data": {
      "application/vnd.jupyter.widget-view+json": {
       "model_id": "9552fb70980843a4a9b9bc48d199bdf3",
       "version_major": 2,
       "version_minor": 0
      },
      "text/plain": [
       "VBox()"
      ]
     },
     "metadata": {},
     "output_type": "display_data"
    },
    {
     "name": "stdout",
     "output_type": "stream",
     "text": [
      "Starting Spark application\n"
     ]
    },
    {
     "data": {
      "text/html": [
       "<table>\n",
       "    <tr><th>ID</th><th>Kind</th><th>State</th><th>Spark UI</th><th>Driver log</th><th>User</th><th>Current session?</th></tr><tr><td>3</td><td>pyspark</td><td>idle</td><td><a target=\"_blank\" href=\"https://spark-live-ui.emr-serverless.amazonaws.com\" class=\"emr-proxy-link\" emr-runtime=\"emr-serverless\" emr-resource=\"00fhtnkn92tqt10a\" application-id=\"00fhtkhd7vv1kl09\">Link</a></td><td></td><td>None</td><td>✔</td></tr></table>"
      ],
      "text/plain": [
       "<IPython.core.display.HTML object>"
      ]
     },
     "metadata": {},
     "output_type": "display_data"
    },
    {
     "data": {
      "application/vnd.jupyter.widget-view+json": {
       "model_id": "",
       "version_major": 2,
       "version_minor": 0
      },
      "text/plain": [
       "FloatProgress(value=0.0, bar_style='info', description='Progress:', layout=Layout(height='25px', width='50%'),…"
      ]
     },
     "metadata": {},
     "output_type": "display_data"
    },
    {
     "name": "stdout",
     "output_type": "stream",
     "text": [
      "SparkSession available as 'spark'.\n"
     ]
    },
    {
     "data": {
      "application/vnd.jupyter.widget-view+json": {
       "model_id": "",
       "version_major": 2,
       "version_minor": 0
      },
      "text/plain": [
       "FloatProgress(value=0.0, bar_style='info', description='Progress:', layout=Layout(height='25px', width='50%'),…"
      ]
     },
     "metadata": {},
     "output_type": "display_data"
    }
   ],
   "source": [
    "from pyspark import SparkConf, SparkContext\n",
    "from pyspark.sql import HiveContext, SparkSession\n",
    "from pyspark.sql.types import *\n",
    "from pyspark.sql.functions import *\n",
    "from pyspark.sql.window import Window\n",
    "from delta import *\n",
    "from numpy import exp\n",
    "import boto3\n",
    "import builtins\n",
    "import json\n",
    "import math\n",
    "import os\n",
    "import pandas as pd\n",
    "import numpy as np\n",
    "import logging\n",
    "import time"
   ]
  },
  {
   "cell_type": "code",
   "execution_count": null,
   "id": "a623ad3e-ea85-4b15-ac47-a8af7ca53c36",
   "metadata": {},
   "outputs": [],
   "source": []
  },
  {
   "cell_type": "code",
   "execution_count": 4,
   "id": "03fde800-d3c4-4bd2-8f26-a2897e5df9f0",
   "metadata": {
    "execution": {
     "iopub.execute_input": "2024-03-19T18:22:17.042203Z",
     "iopub.status.busy": "2024-03-19T18:22:17.041531Z",
     "iopub.status.idle": "2024-03-19T18:22:17.222958Z",
     "shell.execute_reply": "2024-03-19T18:22:17.222341Z",
     "shell.execute_reply.started": "2024-03-19T18:22:17.042170Z"
    }
   },
   "outputs": [
    {
     "data": {
      "application/vnd.jupyter.widget-view+json": {
       "model_id": "c127e35381954b69bcdfd2dceff6b63b",
       "version_major": 2,
       "version_minor": 0
      },
      "text/plain": [
       "VBox()"
      ]
     },
     "metadata": {},
     "output_type": "display_data"
    },
    {
     "data": {
      "application/vnd.jupyter.widget-view+json": {
       "model_id": "",
       "version_major": 2,
       "version_minor": 0
      },
      "text/plain": [
       "FloatProgress(value=0.0, bar_style='info', description='Progress:', layout=Layout(height='25px', width='50%'),…"
      ]
     },
     "metadata": {},
     "output_type": "display_data"
    },
    {
     "name": "stdout",
     "output_type": "stream",
     "text": [
      "s3a://amzn-customer-reviews-228924278364/delta/amznreviews/books/"
     ]
    }
   ],
   "source": [
    "BUCKET = \"amzn-customer-reviews-228924278364\"\n",
    "#PREFIX = \"amzn-customer-reviews-partitioned/category=Books/review_year=2014/review_month=10/review_day=10/\"\n",
    "PREFIX = \"delta/amznreviews/books/\"\n",
    "PATH = f\"s3a://{BUCKET}/{PREFIX}\"\n",
    "REGION = \"us-east-1\"\n",
    "\n",
    "print(PATH)"
   ]
  },
  {
   "cell_type": "code",
   "execution_count": 5,
   "id": "aeacc163-d4a5-4b99-ba26-e6da5330d643",
   "metadata": {
    "execution": {
     "iopub.execute_input": "2024-03-19T18:23:19.454526Z",
     "iopub.status.busy": "2024-03-19T18:23:19.454179Z",
     "iopub.status.idle": "2024-03-19T18:23:19.639101Z",
     "shell.execute_reply": "2024-03-19T18:23:19.638483Z",
     "shell.execute_reply.started": "2024-03-19T18:23:19.454494Z"
    }
   },
   "outputs": [
    {
     "data": {
      "application/vnd.jupyter.widget-view+json": {
       "model_id": "92fd5fee86554cb088b1351c499e8d02",
       "version_major": 2,
       "version_minor": 0
      },
      "text/plain": [
       "VBox()"
      ]
     },
     "metadata": {},
     "output_type": "display_data"
    },
    {
     "data": {
      "application/vnd.jupyter.widget-view+json": {
       "model_id": "",
       "version_major": 2,
       "version_minor": 0
      },
      "text/plain": [
       "FloatProgress(value=0.0, bar_style='info', description='Progress:', layout=Layout(height='25px', width='50%'),…"
      ]
     },
     "metadata": {},
     "output_type": "display_data"
    }
   ],
   "source": [
    "def getBodyJson(system_prompt, message_json):\n",
    "    body_summary = json.dumps({\n",
    "        \"max_tokens\": 2048,\n",
    "        \"temperature\": 0.5,\n",
    "        \"system\": system_prompt,\n",
    "        \"messages\": [ message_json ],\n",
    "        \"anthropic_version\": \"bedrock-2023-05-31\"\n",
    "    })\n",
    "\n",
    "    return body_summary\n",
    "\n",
    "def getMessageJson(user_prompt):\n",
    "    user_prompt = f\"\"\"\\n\\n\\nHuman: {user_prompt}\\n\\nAssistant:\"\"\"\n",
    "    message_json = {\n",
    "        \"role\": \"user\",\n",
    "        \"content\": [\n",
    "            {\n",
    "                \"type\": \"text\",\n",
    "                \"text\": user_prompt\n",
    "            }\n",
    "        ]\n",
    "    }\n",
    "    return message_json\n",
    "\n",
    "def getPrompt(type,txt):\n",
    "    if type == \"summary\":\n",
    "        user_prompt = f\"\"\"Write a summary of the following review; all your output has to be grammatically correct in a single paragraph:\\n{txt}\"\"\"\n",
    "    elif type == \"sentiment\":\n",
    "        user_prompt = f\"\"\"The text below is a book review. Tell me the sentiment of the text here:\\n{txt}\\n The sentiment categories are: \\n(1) Positive\\n(2) Negative\\n(3) Neutral\"\"\"\n",
    "    elif type == \"sentiment_one_label\":\n",
    "        user_prompt = f\"\"\"The text below is a book review.\\nTell me the sentiment of the text here by returning only one label, which can be (1) Positive, (2) Negative, or (3) Neutral.\\nThe text is here:\\n{txt}\\n\"\"\"\n",
    "    else:\n",
    "        user_prompt = \"error\"\n",
    "\n",
    "    return user_prompt"
   ]
  },
  {
   "cell_type": "code",
   "execution_count": 6,
   "id": "8ad77cbd-63cb-4057-aefa-1b91cfd8dc2e",
   "metadata": {
    "execution": {
     "iopub.execute_input": "2024-03-19T18:23:28.073544Z",
     "iopub.status.busy": "2024-03-19T18:23:28.073209Z",
     "iopub.status.idle": "2024-03-19T18:23:28.244655Z",
     "shell.execute_reply": "2024-03-19T18:23:28.244065Z",
     "shell.execute_reply.started": "2024-03-19T18:23:28.073514Z"
    }
   },
   "outputs": [
    {
     "data": {
      "application/vnd.jupyter.widget-view+json": {
       "model_id": "69b842381b294651a632c579959c307c",
       "version_major": 2,
       "version_minor": 0
      },
      "text/plain": [
       "VBox()"
      ]
     },
     "metadata": {},
     "output_type": "display_data"
    },
    {
     "data": {
      "application/vnd.jupyter.widget-view+json": {
       "model_id": "",
       "version_major": 2,
       "version_minor": 0
      },
      "text/plain": [
       "FloatProgress(value=0.0, bar_style='info', description='Progress:', layout=Layout(height='25px', width='50%'),…"
      ]
     },
     "metadata": {},
     "output_type": "display_data"
    }
   ],
   "source": [
    "def getPdfAnthropic(df:pd.DataFrame)-> pd.DataFrame:\n",
    "\n",
    "    # Define model ID\n",
    "    model_id = 'anthropic.claude-3-haiku-20240307-v1:0'\n",
    "    # Set system prompt\n",
    "    system_prompt = \"The texts here are all book reviews.\"\n",
    "\n",
    "    # Instantiate bedrock\n",
    "    client_bedrock = boto3.client(\"bedrock-runtime\", REGION)\n",
    "\n",
    "    def getAnthropic(type,txt):\n",
    "        user_prompt = getPrompt(type,txt)\n",
    "\n",
    "        if user_prompt == \"error\":\n",
    "            return \"error\"\n",
    "        else:\n",
    "            message_json = getMessageJson(user_prompt)\n",
    "            body = getBodyJson(system_prompt, message_json)\n",
    "        \n",
    "            response = client_bedrock.invoke_model(modelId=model_id, body=body)\n",
    "            response_body_summary = json.loads(response[\"body\"].read())\n",
    "            response_summary = response_body_summary[\"content\"][0][\"text\"]\n",
    "\n",
    "        return response_summary\n",
    "\n",
    "    \n",
    "    reviewText = [d.reviewText for idx, d in df.iterrows()]\n",
    "\n",
    "    anthropicSummary_list = []\n",
    "    \n",
    "    for r in reviewText:\n",
    "        each_summary = getAnthropic(\"summary\",r)\n",
    "        anthropicSummary_list.append(each_summary)\n",
    "\n",
    "    anthropicSummary_array = np.array([anthropicSummary_list])\n",
    "    anthropicSummary_concat = np.concatenate(anthropicSummary_array)\n",
    "\n",
    "    return_df = (\n",
    "        df[[\n",
    "            \"asin\",\"overall\",\"reviewText\",\n",
    "            \"reviewTimeTS\", \"reviewerID\",\n",
    "            \"reviewerName\", \"summary\",\n",
    "            \"verified\", \"row_id\",\n",
    "            \"asin_key\", \"row_number\"\n",
    "          ]]\n",
    "        .assign(anthropicSummary=list(anthropicSummary_concat))\n",
    "    )\n",
    "\n",
    "    return return_df"
   ]
  },
  {
   "cell_type": "code",
   "execution_count": 7,
   "id": "27c92024-b584-41e7-98ee-cc0367d6e95a",
   "metadata": {
    "execution": {
     "iopub.execute_input": "2024-03-19T18:23:33.832839Z",
     "iopub.status.busy": "2024-03-19T18:23:33.832475Z",
     "iopub.status.idle": "2024-03-19T18:23:43.414227Z",
     "shell.execute_reply": "2024-03-19T18:23:43.413625Z",
     "shell.execute_reply.started": "2024-03-19T18:23:33.832807Z"
    },
    "tags": []
   },
   "outputs": [
    {
     "data": {
      "application/vnd.jupyter.widget-view+json": {
       "model_id": "ac6d2e770a2e431b9755bb89ba176ef9",
       "version_major": 2,
       "version_minor": 0
      },
      "text/plain": [
       "VBox()"
      ]
     },
     "metadata": {},
     "output_type": "display_data"
    },
    {
     "data": {
      "application/vnd.jupyter.widget-view+json": {
       "model_id": "",
       "version_major": 2,
       "version_minor": 0
      },
      "text/plain": [
       "FloatProgress(value=0.0, bar_style='info', description='Progress:', layout=Layout(height='25px', width='50%'),…"
      ]
     },
     "metadata": {},
     "output_type": "display_data"
    }
   ],
   "source": [
    "df = spark.read.format(\"delta\").load(PATH)"
   ]
  },
  {
   "cell_type": "code",
   "execution_count": 8,
   "id": "3613b050-f242-40f6-b3de-6ed85e2ee2e3",
   "metadata": {
    "execution": {
     "iopub.execute_input": "2024-03-19T18:24:08.702601Z",
     "iopub.status.busy": "2024-03-19T18:24:08.702259Z",
     "iopub.status.idle": "2024-03-19T18:24:08.880156Z",
     "shell.execute_reply": "2024-03-19T18:24:08.879573Z",
     "shell.execute_reply.started": "2024-03-19T18:24:08.702571Z"
    }
   },
   "outputs": [
    {
     "data": {
      "application/vnd.jupyter.widget-view+json": {
       "model_id": "ba0b8458d51f4d1a86caab9e8de4c706",
       "version_major": 2,
       "version_minor": 0
      },
      "text/plain": [
       "VBox()"
      ]
     },
     "metadata": {},
     "output_type": "display_data"
    },
    {
     "data": {
      "application/vnd.jupyter.widget-view+json": {
       "model_id": "",
       "version_major": 2,
       "version_minor": 0
      },
      "text/plain": [
       "FloatProgress(value=0.0, bar_style='info', description='Progress:', layout=Layout(height='25px', width='50%'),…"
      ]
     },
     "metadata": {},
     "output_type": "display_data"
    },
    {
     "name": "stdout",
     "output_type": "stream",
     "text": [
      "root\n",
      " |-- asin: string (nullable = true)\n",
      " |-- overall: double (nullable = true)\n",
      " |-- reviewText: string (nullable = true)\n",
      " |-- reviewTimeTS: timestamp (nullable = true)\n",
      " |-- reviewerID: string (nullable = true)\n",
      " |-- reviewerName: string (nullable = true)\n",
      " |-- summary: string (nullable = true)\n",
      " |-- verified: boolean (nullable = true)\n",
      " |-- row_number: integer (nullable = true)\n",
      " |-- asin_key: integer (nullable = true)"
     ]
    }
   ],
   "source": [
    "df.printSchema()"
   ]
  },
  {
   "cell_type": "code",
   "execution_count": 9,
   "id": "0baf82e3-5f2d-49ed-9e7e-63b2fcb84b5a",
   "metadata": {
    "execution": {
     "iopub.execute_input": "2024-03-19T18:24:09.791494Z",
     "iopub.status.busy": "2024-03-19T18:24:09.790859Z",
     "iopub.status.idle": "2024-03-19T18:24:19.368536Z",
     "shell.execute_reply": "2024-03-19T18:24:19.367942Z",
     "shell.execute_reply.started": "2024-03-19T18:24:09.791464Z"
    }
   },
   "outputs": [
    {
     "data": {
      "application/vnd.jupyter.widget-view+json": {
       "model_id": "fd921ad5d13847fe9dd115c7054bb3f8",
       "version_major": 2,
       "version_minor": 0
      },
      "text/plain": [
       "VBox()"
      ]
     },
     "metadata": {},
     "output_type": "display_data"
    },
    {
     "data": {
      "application/vnd.jupyter.widget-view+json": {
       "model_id": "",
       "version_major": 2,
       "version_minor": 0
      },
      "text/plain": [
       "FloatProgress(value=0.0, bar_style='info', description='Progress:', layout=Layout(height='25px', width='50%'),…"
      ]
     },
     "metadata": {},
     "output_type": "display_data"
    },
    {
     "name": "stdout",
     "output_type": "stream",
     "text": [
      "23184"
     ]
    }
   ],
   "source": [
    "df.count()"
   ]
  },
  {
   "cell_type": "code",
   "execution_count": 10,
   "id": "4529d476-a9be-4512-94e4-f7f6ff0fd9a6",
   "metadata": {
    "execution": {
     "iopub.execute_input": "2024-03-19T18:24:28.709999Z",
     "iopub.status.busy": "2024-03-19T18:24:28.709664Z",
     "iopub.status.idle": "2024-03-19T18:24:29.099488Z",
     "shell.execute_reply": "2024-03-19T18:24:29.098895Z",
     "shell.execute_reply.started": "2024-03-19T18:24:28.709971Z"
    },
    "tags": []
   },
   "outputs": [
    {
     "data": {
      "application/vnd.jupyter.widget-view+json": {
       "model_id": "ea3b51e6e80946aeaf28c01829c1804f",
       "version_major": 2,
       "version_minor": 0
      },
      "text/plain": [
       "VBox()"
      ]
     },
     "metadata": {},
     "output_type": "display_data"
    },
    {
     "data": {
      "application/vnd.jupyter.widget-view+json": {
       "model_id": "",
       "version_major": 2,
       "version_minor": 0
      },
      "text/plain": [
       "FloatProgress(value=0.0, bar_style='info', description='Progress:', layout=Layout(height='25px', width='50%'),…"
      ]
     },
     "metadata": {},
     "output_type": "display_data"
    }
   ],
   "source": [
    " # Create row_count\n",
    "df = df.withColumn(\"temp_column\", lit(\"A\"))\n",
    "w = Window().partitionBy(\"temp_column\").orderBy(lit(\"A\"))\n",
    "df = df.withColumn(\"row_id\", row_number().over(w)).drop(\"temp_column\")"
   ]
  },
  {
   "cell_type": "code",
   "execution_count": 11,
   "id": "7ac016bf-3a7c-47e4-b42a-af6932afbfb7",
   "metadata": {
    "execution": {
     "iopub.execute_input": "2024-03-19T18:24:29.664477Z",
     "iopub.status.busy": "2024-03-19T18:24:29.663846Z",
     "iopub.status.idle": "2024-03-19T18:24:29.823008Z",
     "shell.execute_reply": "2024-03-19T18:24:29.822406Z",
     "shell.execute_reply.started": "2024-03-19T18:24:29.664446Z"
    }
   },
   "outputs": [
    {
     "data": {
      "application/vnd.jupyter.widget-view+json": {
       "model_id": "a14020ad7b334d2d8160bebe3bd4585a",
       "version_major": 2,
       "version_minor": 0
      },
      "text/plain": [
       "VBox()"
      ]
     },
     "metadata": {},
     "output_type": "display_data"
    },
    {
     "data": {
      "application/vnd.jupyter.widget-view+json": {
       "model_id": "",
       "version_major": 2,
       "version_minor": 0
      },
      "text/plain": [
       "FloatProgress(value=0.0, bar_style='info', description='Progress:', layout=Layout(height='25px', width='50%'),…"
      ]
     },
     "metadata": {},
     "output_type": "display_data"
    },
    {
     "name": "stdout",
     "output_type": "stream",
     "text": [
      "root\n",
      " |-- asin: string (nullable = true)\n",
      " |-- overall: double (nullable = true)\n",
      " |-- reviewText: string (nullable = true)\n",
      " |-- reviewTimeTS: timestamp (nullable = true)\n",
      " |-- reviewerID: string (nullable = true)\n",
      " |-- reviewerName: string (nullable = true)\n",
      " |-- summary: string (nullable = true)\n",
      " |-- verified: boolean (nullable = true)\n",
      " |-- row_number: integer (nullable = true)\n",
      " |-- asin_key: integer (nullable = true)\n",
      " |-- row_id: integer (nullable = false)"
     ]
    }
   ],
   "source": [
    "df.printSchema()"
   ]
  },
  {
   "cell_type": "code",
   "execution_count": 12,
   "id": "4aad636a-d980-4399-b48b-653e239c2cec",
   "metadata": {
    "execution": {
     "iopub.execute_input": "2024-03-19T18:24:33.053296Z",
     "iopub.status.busy": "2024-03-19T18:24:33.052959Z",
     "iopub.status.idle": "2024-03-19T18:24:33.210131Z",
     "shell.execute_reply": "2024-03-19T18:24:33.209547Z",
     "shell.execute_reply.started": "2024-03-19T18:24:33.053267Z"
    }
   },
   "outputs": [
    {
     "data": {
      "application/vnd.jupyter.widget-view+json": {
       "model_id": "0527dfdf03ab4b5ba878d764421f6667",
       "version_major": 2,
       "version_minor": 0
      },
      "text/plain": [
       "VBox()"
      ]
     },
     "metadata": {},
     "output_type": "display_data"
    },
    {
     "data": {
      "application/vnd.jupyter.widget-view+json": {
       "model_id": "",
       "version_major": 2,
       "version_minor": 0
      },
      "text/plain": [
       "FloatProgress(value=0.0, bar_style='info', description='Progress:', layout=Layout(height='25px', width='50%'),…"
      ]
     },
     "metadata": {},
     "output_type": "display_data"
    }
   ],
   "source": [
    "df_test = df.limit(30)"
   ]
  },
  {
   "cell_type": "code",
   "execution_count": 13,
   "id": "5878f740-bb17-41d5-a5af-b9465dc1ccc7",
   "metadata": {
    "execution": {
     "iopub.execute_input": "2024-03-19T18:24:34.053097Z",
     "iopub.status.busy": "2024-03-19T18:24:34.052764Z",
     "iopub.status.idle": "2024-03-19T18:24:34.243773Z",
     "shell.execute_reply": "2024-03-19T18:24:34.243150Z",
     "shell.execute_reply.started": "2024-03-19T18:24:34.053067Z"
    }
   },
   "outputs": [
    {
     "data": {
      "application/vnd.jupyter.widget-view+json": {
       "model_id": "983c3bd7c53c4df29ed5b69fef144834",
       "version_major": 2,
       "version_minor": 0
      },
      "text/plain": [
       "VBox()"
      ]
     },
     "metadata": {},
     "output_type": "display_data"
    },
    {
     "data": {
      "application/vnd.jupyter.widget-view+json": {
       "model_id": "",
       "version_major": 2,
       "version_minor": 0
      },
      "text/plain": [
       "FloatProgress(value=0.0, bar_style='info', description='Progress:', layout=Layout(height='25px', width='50%'),…"
      ]
     },
     "metadata": {},
     "output_type": "display_data"
    }
   ],
   "source": [
    "schema = StructType(\n",
    "       [\n",
    "           StructField('asin', StringType(), True),\n",
    "           StructField('overall', DoubleType(), True),\n",
    "           StructField('reviewText', StringType(), True),\n",
    "           StructField('reviewTimeTS', TimestampType(), True),\n",
    "           StructField('reviewerID', StringType(), True),\n",
    "           StructField('reviewerName', StringType(), True),\n",
    "           StructField('summary', StringType(), True),\n",
    "           StructField('verified', BooleanType(), True),\n",
    "           StructField('row_id', IntegerType(), True),\n",
    "           StructField('row_number', IntegerType(), True),\n",
    "           StructField('asin_key', IntegerType(), True),\n",
    "           StructField(\"anthropicSummary\", StringType(), True)\n",
    "       ]\n",
    "    )"
   ]
  },
  {
   "cell_type": "code",
   "execution_count": 14,
   "id": "1dbf489b-d75f-4fcd-ba8f-6ba61fe61f93",
   "metadata": {
    "execution": {
     "iopub.execute_input": "2024-03-19T18:24:37.547717Z",
     "iopub.status.busy": "2024-03-19T18:24:37.547088Z",
     "iopub.status.idle": "2024-03-19T18:24:37.927992Z",
     "shell.execute_reply": "2024-03-19T18:24:37.927393Z",
     "shell.execute_reply.started": "2024-03-19T18:24:37.547686Z"
    }
   },
   "outputs": [
    {
     "data": {
      "application/vnd.jupyter.widget-view+json": {
       "model_id": "ff51d91f1add4dd6ab0b895d0fffdb89",
       "version_major": 2,
       "version_minor": 0
      },
      "text/plain": [
       "VBox()"
      ]
     },
     "metadata": {},
     "output_type": "display_data"
    },
    {
     "data": {
      "application/vnd.jupyter.widget-view+json": {
       "model_id": "",
       "version_major": 2,
       "version_minor": 0
      },
      "text/plain": [
       "FloatProgress(value=0.0, bar_style='info', description='Progress:', layout=Layout(height='25px', width='50%'),…"
      ]
     },
     "metadata": {},
     "output_type": "display_data"
    }
   ],
   "source": [
    "df_summary = ( df_test\n",
    "      .groupBy(spark_partition_id().alias(\"_pid\"))\n",
    "      .applyInPandas(getPdfAnthropic,schema)\n",
    "    )"
   ]
  },
  {
   "cell_type": "code",
   "execution_count": 15,
   "id": "e904f8f3-7b40-48b6-ae12-69752a42aebc",
   "metadata": {
    "execution": {
     "iopub.execute_input": "2024-03-19T18:24:38.692328Z",
     "iopub.status.busy": "2024-03-19T18:24:38.691959Z",
     "iopub.status.idle": "2024-03-19T18:25:55.092451Z",
     "shell.execute_reply": "2024-03-19T18:25:55.091834Z",
     "shell.execute_reply.started": "2024-03-19T18:24:38.692296Z"
    },
    "tags": []
   },
   "outputs": [
    {
     "data": {
      "application/vnd.jupyter.widget-view+json": {
       "model_id": "7a2ffa6e05b74bbbab88fea4c66e8f6e",
       "version_major": 2,
       "version_minor": 0
      },
      "text/plain": [
       "VBox()"
      ]
     },
     "metadata": {},
     "output_type": "display_data"
    },
    {
     "data": {
      "application/vnd.jupyter.widget-view+json": {
       "model_id": "",
       "version_major": 2,
       "version_minor": 0
      },
      "text/plain": [
       "FloatProgress(value=0.0, bar_style='info', description='Progress:', layout=Layout(height='25px', width='50%'),…"
      ]
     },
     "metadata": {},
     "output_type": "display_data"
    },
    {
     "name": "stdout",
     "output_type": "stream",
     "text": [
      "18:24:38\n",
      "+----------+-------+--------------------+-------------------+--------------+-------------------+--------------------+--------+------+----------+--------+--------------------+\n",
      "|      asin|overall|          reviewText|       reviewTimeTS|    reviewerID|       reviewerName|             summary|verified|row_id|row_number|asin_key|    anthropicSummary|\n",
      "+----------+-------+--------------------+-------------------+--------------+-------------------+--------------------+--------+------+----------+--------+--------------------+\n",
      "|0002005107|    5.0|Thumps DreadfulWa...|2008-07-13 00:00:00| AACMLWNILA6CL|Diana Tixier Herald|         Love Thumps|   false|     1|         1| 2005107|The review descri...|\n",
      "|0006280544|    3.0|Mere Chistianity ...|2008-07-13 00:00:00|A1W98Q4MZK80VA|Joseph P. Tevington|Nothing \"Mere\" Ab...|   false|     2|         1| 6280544|The review summar...|\n",
      "|0007127898|    5.0|Mabinogion myth m...|2008-07-13 00:00:00|A1VCUE373CMQBY|    Amazon Customer|Let this story bl...|   false|     3|         1| 7127898|The review discus...|\n",
      "|0007256760|    4.0|[...]\\nIt was a g...|2008-07-13 00:00:00| APPWA0SMSBT44|     Darius Wilkins| It's pretty good...|   false|     4|         1| 7256760|The review highli...|\n",
      "|0007265077|    1.0|Spoiler Alert...r...|2008-07-13 00:00:00|  AAN7FFA1GHBY|      Donald Souder| Too many loose ends|    true|     5|         1| 7265077|The review expres...|\n",
      "|0007265077|    4.0|I agree with all ...|2008-07-13 00:00:00|A2PN65B6BSTIYZ|       B. A. Chaney|A Beautiful Re-in...|    true|     6|         2|14530154|The review summar...|\n",
      "|0007271239|    5.0|This book is for ...|2008-07-13 00:00:00|A2QVXKUH3882QH|       Wisdom Lover|Life Through the ...|   false|     7|         1| 7271239|The book review d...|\n",
      "|0007350899|    5.0|is really a wonde...|2008-07-13 00:00:00| A6138STCC4WT6|             M. Lee|A Tale of Two Cities|   false|     8|         1| 7350899|The review praise...|\n",
      "|0007350899|    5.0|Some honest discl...|2008-07-13 00:00:00|A1B1ERGGIV47SB|           T. Leach|           Rewarding|   false|     9|         2|14701798|The reviewer ackn...|\n",
      "|0007351054|    5.0|<a data-hook=\"pro...|2008-07-13 00:00:00|A1APHERUJIKK3I|     Sarah Galperin|This is such a go...|   false|    10|         1| 7351054|The review summar...|\n",
      "|0007491557|    5.0|I've just finishe...|2008-07-13 00:00:00|A1JA55BW3T7WZJ|             Amanda|Innovative page t...|    true|    11|         1| 7491557|The review provid...|\n",
      "|0008124868|    5.0|This is a very en...|2008-07-13 00:00:00|A1B1ERGGIV47SB|           T. Leach|Archetypical page...|   false|    12|         1| 8124868|The review summar...|\n",
      "|0041330013|    5.0|I've read quite a...|2008-07-13 00:00:00|A20CR4907G7CTS|       Jeff Marzano|Very Mysterious A...|    true|    13|         1|41330013|The reviewer has ...|\n",
      "|0060093919|    3.0|I read SEP for th...|2008-07-13 00:00:00|A11S0YQ1ALK7UG|            Jessica|Where's the Romance?|   false|    14|         1|60093919|The review discus...|\n",
      "|006051518X|    4.0|Having been recen...|2008-07-13 00:00:00|A2NHD7LUXVGTD3|       doc peterson|Good - but not great|   false|    15|         1|    NULL|The reviewer was ...|\n",
      "|0060558121|    2.0|I initially went ...|2008-07-13 00:00:00| AWAPXAKF1G7LO|     Tristan Keidis|       Had potential|   false|    16|         1|60558121|The reviewer init...|\n",
      "|0060559535|    3.0|This book suggest...|2008-07-13 00:00:00| ALN0TTRTLHA4E|          Tom Munro|    Not hard to read|   false|    17|         1|60559535|The book review s...|\n",
      "|0060648082|    5.0|This book helped ...|2008-07-13 00:00:00|A3F10FS61TC45T|   Michael J. Henry|I thought I was o...|    true|    18|         1|60648082|The review discus...|\n",
      "|0060765380|    1.0|I have read every...|2008-07-13 00:00:00|A3PMPAM83LZIER|  Robert W. Johnson|              Awful!|   false|    19|         1|60765380|The review critic...|\n",
      "|006085054X|    4.0|I have to say thi...|2008-07-13 00:00:00| AGQ4HLY4GONFY|       Hisham Sabha|Another good touc...|   false|    20|         1|    NULL|The review discus...|\n",
      "+----------+-------+--------------------+-------------------+--------------+-------------------+--------------------+--------+------+----------+--------+--------------------+\n",
      "only showing top 20 rows\n",
      "\n",
      "18:25:54"
     ]
    }
   ],
   "source": [
    "# Get start time\n",
    "t0 = time.localtime()\n",
    "start_time = time.strftime(\"%H:%M:%S\", t0)\n",
    "print(start_time)\n",
    "\n",
    "# Get Dataframe\n",
    "df_summary.cache()\n",
    "df_summary.show()\n",
    "\n",
    "# Get end time\n",
    "t1 = time.localtime()\n",
    "end_time = time.strftime(\"%H:%M:%S\", t1)\n",
    "print(end_time)"
   ]
  },
  {
   "cell_type": "code",
   "execution_count": 16,
   "id": "b904b516-ade3-4c48-acfa-4236413d7227",
   "metadata": {
    "execution": {
     "iopub.execute_input": "2024-03-19T18:26:21.916919Z",
     "iopub.status.busy": "2024-03-19T18:26:21.916271Z",
     "iopub.status.idle": "2024-03-19T18:26:22.090426Z",
     "shell.execute_reply": "2024-03-19T18:26:22.089840Z",
     "shell.execute_reply.started": "2024-03-19T18:26:21.916887Z"
    }
   },
   "outputs": [
    {
     "data": {
      "application/vnd.jupyter.widget-view+json": {
       "model_id": "4a31bddd5be64244a49f617735c03229",
       "version_major": 2,
       "version_minor": 0
      },
      "text/plain": [
       "VBox()"
      ]
     },
     "metadata": {},
     "output_type": "display_data"
    },
    {
     "data": {
      "application/vnd.jupyter.widget-view+json": {
       "model_id": "",
       "version_major": 2,
       "version_minor": 0
      },
      "text/plain": [
       "FloatProgress(value=0.0, bar_style='info', description='Progress:', layout=Layout(height='25px', width='50%'),…"
      ]
     },
     "metadata": {},
     "output_type": "display_data"
    },
    {
     "name": "stdout",
     "output_type": "stream",
     "text": [
      "Difference (seconds): 76.0"
     ]
    }
   ],
   "source": [
    "# Difference \n",
    "diff_time = ( time.mktime(t1) - time.mktime(t0) )\n",
    "print(f\"Difference (seconds): {diff_time}\")"
   ]
  },
  {
   "cell_type": "code",
   "execution_count": 17,
   "id": "12058c2a-e709-44f1-8570-67b27504b6db",
   "metadata": {
    "execution": {
     "iopub.execute_input": "2024-03-19T18:26:49.491827Z",
     "iopub.status.busy": "2024-03-19T18:26:49.491496Z",
     "iopub.status.idle": "2024-03-19T18:26:49.895122Z",
     "shell.execute_reply": "2024-03-19T18:26:49.894542Z",
     "shell.execute_reply.started": "2024-03-19T18:26:49.491796Z"
    }
   },
   "outputs": [
    {
     "data": {
      "application/vnd.jupyter.widget-view+json": {
       "model_id": "6a5d8557374642139198ecf8a2bf9957",
       "version_major": 2,
       "version_minor": 0
      },
      "text/plain": [
       "VBox()"
      ]
     },
     "metadata": {},
     "output_type": "display_data"
    },
    {
     "data": {
      "application/vnd.jupyter.widget-view+json": {
       "model_id": "",
       "version_major": 2,
       "version_minor": 0
      },
      "text/plain": [
       "FloatProgress(value=0.0, bar_style='info', description='Progress:', layout=Layout(height='25px', width='50%'),…"
      ]
     },
     "metadata": {},
     "output_type": "display_data"
    }
   ],
   "source": [
    "df_summary_text = df_summary.select(\"reviewText\", \"anthropicSummary\").collect()"
   ]
  },
  {
   "cell_type": "code",
   "execution_count": 18,
   "id": "d0d8af72-2d50-482b-b19e-7ca8254a58e9",
   "metadata": {
    "execution": {
     "iopub.execute_input": "2024-03-19T18:27:19.090319Z",
     "iopub.status.busy": "2024-03-19T18:27:19.089975Z",
     "iopub.status.idle": "2024-03-19T18:27:19.266137Z",
     "shell.execute_reply": "2024-03-19T18:27:19.265546Z",
     "shell.execute_reply.started": "2024-03-19T18:27:19.090288Z"
    }
   },
   "outputs": [
    {
     "data": {
      "application/vnd.jupyter.widget-view+json": {
       "model_id": "21f6eb2721ab4b3791903dd5799ec517",
       "version_major": 2,
       "version_minor": 0
      },
      "text/plain": [
       "VBox()"
      ]
     },
     "metadata": {},
     "output_type": "display_data"
    },
    {
     "data": {
      "application/vnd.jupyter.widget-view+json": {
       "model_id": "",
       "version_major": 2,
       "version_minor": 0
      },
      "text/plain": [
       "FloatProgress(value=0.0, bar_style='info', description='Progress:', layout=Layout(height='25px', width='50%'),…"
      ]
     },
     "metadata": {},
     "output_type": "display_data"
    },
    {
     "name": "stdout",
     "output_type": "stream",
     "text": [
      "The review summarizes the key ideas presented in C.S. Lewis' book \"Mere Christianity,\" which is divided into four books. In Book 1, Lewis argues against relativistic thinking, asserting that there are universal moral standards that come from God. In Book 2, he addresses the divinity of Jesus, stating that if Jesus was merely a man, he would either be a lunatic or the devil. Book 3 discusses the \"cardinal virtues\" and the importance of forgiveness and humility. The review notes that Lewis' commentary on sexual morality was prophetic, though he also made some questionable statements about marriage. In Book 4, Lewis warns against a \"vague religion\" and emphasizes the importance of submitting to Christ to truly find one's own personality. Overall, the review highlights the depth and significance of the ideas presented in this influential work by C.S. Lewis."
     ]
    }
   ],
   "source": [
    "print(df_summary_text[1][\"anthropicSummary\"])"
   ]
  },
  {
   "cell_type": "code",
   "execution_count": null,
   "id": "d516575e-2ac7-4f4e-ae14-c86ffbc7c93d",
   "metadata": {},
   "outputs": [],
   "source": []
  }
 ],
 "metadata": {
  "kernelspec": {
   "display_name": "PySpark",
   "language": "python",
   "name": "spark_magic_pyspark"
  },
  "language_info": {
   "codemirror_mode": {
    "name": "python",
    "version": 3
   },
   "file_extension": ".py",
   "mimetype": "text/x-python",
   "name": "pyspark",
   "pygments_lexer": "python3"
  }
 },
 "nbformat": 4,
 "nbformat_minor": 5
}
