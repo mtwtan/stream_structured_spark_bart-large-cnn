{
 "cells": [
  {
   "cell_type": "code",
   "execution_count": 1,
   "id": "d3849b33-5d41-47ef-82cf-3799a0fe3eed",
   "metadata": {},
   "outputs": [
    {
     "name": "stderr",
     "output_type": "stream",
     "text": [
      "/home/ubuntu/.local/lib/python3.10/site-packages/tqdm/auto.py:21: TqdmWarning: IProgress not found. Please update jupyter and ipywidgets. See https://ipywidgets.readthedocs.io/en/stable/user_install.html\n",
      "  from .autonotebook import tqdm as notebook_tqdm\n"
     ]
    }
   ],
   "source": [
    "from pyspark import SparkConf, SparkContext\n",
    "from pyspark.sql import HiveContext, SparkSession\n",
    "from pyspark.sql.types import *\n",
    "from pyspark.sql.functions import *\n",
    "from pyspark.sql.window import Window\n",
    "from delta import *\n",
    "from chunkipy import TextChunker, TokenEstimator\n",
    "from numpy import exp\n",
    "import boto3\n",
    "import builtins\n",
    "import json\n",
    "import math\n",
    "import os\n",
    "import pandas as pd\n",
    "import numpy as np\n",
    "import logging\n",
    "import time"
   ]
  },
  {
   "cell_type": "code",
   "execution_count": 2,
   "id": "9bebc999-445c-4946-9164-09f84fb7c725",
   "metadata": {},
   "outputs": [
    {
     "name": "stdout",
     "output_type": "stream",
     "text": [
      ":: loading settings :: url = jar:file:/opt/spark-3.5.0-bin-hadoop3/jars/ivy-2.5.1.jar!/org/apache/ivy/core/settings/ivysettings.xml\n"
     ]
    },
    {
     "name": "stderr",
     "output_type": "stream",
     "text": [
      "Ivy Default Cache set to: /home/ubuntu/.ivy2/cache\n",
      "The jars for the packages stored in: /home/ubuntu/.ivy2/jars\n",
      "io.delta#delta-spark_2.12 added as a dependency\n",
      ":: resolving dependencies :: org.apache.spark#spark-submit-parent-921b495f-9259-4f63-b7fb-5f6bfae3c452;1.0\n",
      "\tconfs: [default]\n",
      "\tfound io.delta#delta-spark_2.12;3.1.0 in local-m2-cache\n",
      "\tfound io.delta#delta-storage;3.1.0 in local-m2-cache\n",
      "\tfound org.antlr#antlr4-runtime;4.9.3 in local-m2-cache\n",
      ":: resolution report :: resolve 168ms :: artifacts dl 8ms\n",
      "\t:: modules in use:\n",
      "\tio.delta#delta-spark_2.12;3.1.0 from local-m2-cache in [default]\n",
      "\tio.delta#delta-storage;3.1.0 from local-m2-cache in [default]\n",
      "\torg.antlr#antlr4-runtime;4.9.3 from local-m2-cache in [default]\n",
      "\t---------------------------------------------------------------------\n",
      "\t|                  |            modules            ||   artifacts   |\n",
      "\t|       conf       | number| search|dwnlded|evicted|| number|dwnlded|\n",
      "\t---------------------------------------------------------------------\n",
      "\t|      default     |   3   |   0   |   0   |   0   ||   3   |   0   |\n",
      "\t---------------------------------------------------------------------\n",
      ":: retrieving :: org.apache.spark#spark-submit-parent-921b495f-9259-4f63-b7fb-5f6bfae3c452\n",
      "\tconfs: [default]\n",
      "\t0 artifacts copied, 3 already retrieved (0kB/6ms)\n",
      "24/03/19 02:21:18 WARN NativeCodeLoader: Unable to load native-hadoop library for your platform... using builtin-java classes where applicable\n",
      "Setting default log level to \"WARN\".\n",
      "To adjust logging level use sc.setLogLevel(newLevel). For SparkR, use setLogLevel(newLevel).\n"
     ]
    }
   ],
   "source": [
    "builder = SparkSession.builder.appName(\"amzn-reviews\") \\\n",
    "    .config(\"spark.sql.extensions\", \"io.delta.sql.DeltaSparkSessionExtension\") \\\n",
    "    .config(\"spark.sql.catalog.spark_catalog\", \"org.apache.spark.sql.delta.catalog.DeltaCatalog\") \\\n",
    "    .config(\"spark.driver.cores\", \"2\") \\\n",
    "    .config(\"spark.driver.memory\", \"4g\") \\\n",
    "    .config(\"spark.executor.memory\",\"28g\") \\\n",
    "    .config(\"spark.executor.cores\",\"5\") \\\n",
    "    .config(\"spark.executor.instances\",\"2\") \\\n",
    "    .config(\"spark.sql.execution.arrow.pyspark.enabled\",True) \\\n",
    "    .config(\"spark.sql.execution.arrow.pyspark.fallback.enabled\", True) \\\n",
    "    .config(\"spark.sql.parquet.mergeSchema\", False) \\\n",
    "    .config(\"spark.hadoop.parquet.enable.summary-metadata\", False) \\\n",
    "    .enableHiveSupport()\n",
    "\n",
    "spark = configure_spark_with_delta_pip(builder).getOrCreate()\n",
    "\n",
    "sc = spark.sparkContext"
   ]
  },
  {
   "cell_type": "code",
   "execution_count": 3,
   "id": "610b4875-530d-4de2-843b-2447fa5c6845",
   "metadata": {},
   "outputs": [],
   "source": [
    "# Get secrets credential for S3a\n",
    "REGION = \"us-east-1\"\n",
    "client = boto3.client('secretsmanager',region_name=REGION)\n",
    "response = client.get_secret_value(\n",
    "    SecretId='s3all'\n",
    ")\n",
    "accessJson = json.loads(response['SecretString'])\n",
    "accessKeyId = accessJson['accessKey']\n",
    "secretAccessKey = accessJson['secretAccess']\n",
    "\n",
    "# Configure S3a\n",
    "sc._jsc.hadoopConfiguration().set(\"fs.s3a.access.key\", accessKeyId)\n",
    "sc._jsc.hadoopConfiguration().set(\"fs.s3a.secret.key\", secretAccessKey)\n",
    "sc._jsc.hadoopConfiguration().set(\"fs.s3a.path.style.access\", \"true\")\n",
    "sc._jsc.hadoopConfiguration().set(\"fs.s3a.impl\", \"org.apache.hadoop.fs.s3a.S3AFileSystem\")\n",
    "sc._jsc.hadoopConfiguration().set(\"fs.s3a.endpoint\", \"s3.us-east-1.amazonaws.com\")"
   ]
  },
  {
   "cell_type": "code",
   "execution_count": 4,
   "id": "e96783e3-3f34-44ac-83ca-1f7368ca5114",
   "metadata": {},
   "outputs": [
    {
     "name": "stdout",
     "output_type": "stream",
     "text": [
      "s3a://amzn-customer-reviews-228924278364/delta/amznreviews/books/\n"
     ]
    }
   ],
   "source": [
    "BUCKET = \"amzn-customer-reviews-228924278364\"\n",
    "#PREFIX = \"amzn-customer-reviews-partitioned/category=Books/review_year=2014/review_month=10/review_day=10/\"\n",
    "PREFIX = \"delta/amznreviews/books/\"\n",
    "PATH = f\"s3a://{BUCKET}/{PREFIX}\"\n",
    "REGION = \"us-east-1\"\n",
    "\n",
    "print(PATH)"
   ]
  },
  {
   "cell_type": "code",
   "execution_count": 5,
   "id": "d791faa9-2b7e-4e48-8cfe-e41de94f9d10",
   "metadata": {},
   "outputs": [],
   "source": [
    "def getBodyJson(system_prompt, message_json):\n",
    "        body_summary = json.dumps({\n",
    "            \"max_tokens\": 2048,\n",
    "            \"temperature\": 0.5,\n",
    "            \"system\": system_prompt,\n",
    "            \"messages\": [ message_json ],\n",
    "            \"anthropic_version\": \"bedrock-2023-05-31\"\n",
    "        })\n",
    "\n",
    "        return body_summary\n",
    "\n",
    "def getMessageJson(user_prompt):\n",
    "        user_prompt = f\"\"\"\\n\\n\\nHuman: {user_prompt}\\n\\nAssistant:\"\"\"\n",
    "        message_json = {\n",
    "            \"role\": \"user\",\n",
    "            \"content\": [\n",
    "                {\n",
    "                    \"type\": \"text\",\n",
    "                    \"text\": user_prompt\n",
    "                }\n",
    "            ]\n",
    "        }\n",
    "        return message_json\n",
    "\n",
    "def getPrompt(type,txt):\n",
    "        if type == \"summary\":\n",
    "            user_prompt = f\"\"\"Write a summary of the following review; all your output has to be grammatically correct in a single paragraph:\\n{txt}\"\"\"\n",
    "        elif type == \"sentiment\":\n",
    "            user_prompt = f\"\"\"The text below is a book review. Tell me the sentiment of the text here:\\n{txt}\\n The sentiment categories are: \\n(1) Positive\\n(2) Negative\\n(3) Neutral\"\"\"\n",
    "        elif type == \"sentiment_one_label\":\n",
    "            user_prompt = f\"\"\"The text below is a book review.\\nTell me the sentiment of the text here by returning only one label, which can be (1) Positive, (2) Negative, or (3) Neutral.\\nThe text is here:\\n{txt}\\n\"\"\"\n",
    "        else:\n",
    "            user_prompt = \"error\"\n",
    "\n",
    "        return user_prompt\n",
    "\n"
   ]
  },
  {
   "cell_type": "code",
   "execution_count": 19,
   "id": "8eb425a4-baab-478b-afc6-5b61830a1be4",
   "metadata": {},
   "outputs": [],
   "source": [
    "def getPdfAnthropic(df:pd.DataFrame)-> pd.DataFrame:\n",
    "\n",
    "    # Define model ID\n",
    "    model_id = 'anthropic.claude-3-haiku-20240307-v1:0'\n",
    "    # Set system prompt\n",
    "    system_prompt = \"The texts here are all book reviews.\"\n",
    "\n",
    "    # Instantiate bedrock\n",
    "    client_bedrock = boto3.client(\"bedrock-runtime\", REGION)\n",
    "\n",
    "    def getAnthropic(type,txt):\n",
    "        user_prompt = getPrompt(type,txt)\n",
    "\n",
    "        if user_prompt == \"error\":\n",
    "            return \"error\"\n",
    "        else:\n",
    "            message_json = getMessageJson(user_prompt)\n",
    "            body = getBodyJson(system_prompt, message_json)\n",
    "        \n",
    "            response = client_bedrock.invoke_model(modelId=model_id, body=body)\n",
    "            response_body_summary = json.loads(response[\"body\"].read())\n",
    "            response_summary = response_body_summary[\"content\"][0][\"text\"]\n",
    "\n",
    "        return response_summary\n",
    "\n",
    "    \n",
    "    reviewText = [d.reviewText for idx, d in df.iterrows()]\n",
    "\n",
    "    anthropicSummary_list = []\n",
    "    \n",
    "    for r in reviewText:\n",
    "        each_summary = getAnthropic(\"summary\",r)\n",
    "        anthropicSummary_list.append(each_summary)\n",
    "\n",
    "    anthropicSummary_array = np.array([anthropicSummary_list])\n",
    "    anthropicSummary_concat = np.concatenate(anthropicSummary_array)\n",
    "\n",
    "    return_df = (\n",
    "        df[[\n",
    "            \"asin\",\"overall\",\"reviewText\",\n",
    "            \"reviewTimeTS\", \"reviewerID\",\n",
    "            \"reviewerName\", \"summary\",\n",
    "            \"verified\", \"row_id\",\n",
    "            \"asin_key\", \"row_number\"\n",
    "          ]]\n",
    "        .assign(anthropicSummary=list(anthropicSummary_concat))\n",
    "    )\n",
    "\n",
    "    return return_df\n",
    "    "
   ]
  },
  {
   "cell_type": "code",
   "execution_count": 7,
   "id": "a25db279-e584-4bd3-adf3-b563786db15a",
   "metadata": {},
   "outputs": [
    {
     "name": "stderr",
     "output_type": "stream",
     "text": [
      "24/03/19 02:23:00 WARN MetricsConfig: Cannot locate configuration: tried hadoop-metrics2-s3a-file-system.properties,hadoop-metrics2.properties\n"
     ]
    }
   ],
   "source": [
    "df = spark.read.format(\"delta\").load(PATH)"
   ]
  },
  {
   "cell_type": "code",
   "execution_count": null,
   "id": "d36ba7e9-5904-4666-8e2d-1c558fd6c2e5",
   "metadata": {},
   "outputs": [],
   "source": [
    "print(type(df))"
   ]
  },
  {
   "cell_type": "code",
   "execution_count": null,
   "id": "048b30a3-7e88-4255-8294-198d40c75e2e",
   "metadata": {},
   "outputs": [],
   "source": [
    "df.printSchema()"
   ]
  },
  {
   "cell_type": "code",
   "execution_count": 8,
   "id": "e7219559-c268-4bb4-bc6c-bf883de7aec1",
   "metadata": {},
   "outputs": [
    {
     "name": "stderr",
     "output_type": "stream",
     "text": [
      "24/03/19 02:23:06 WARN SparkStringUtils: Truncated the string representation of a plan since it was too large. This behavior can be adjusted by setting 'spark.sql.debug.maxToStringFields'.\n",
      "                                                                                \r"
     ]
    },
    {
     "data": {
      "text/plain": [
       "23184"
      ]
     },
     "execution_count": 8,
     "metadata": {},
     "output_type": "execute_result"
    }
   ],
   "source": [
    "df.count()"
   ]
  },
  {
   "cell_type": "code",
   "execution_count": 9,
   "id": "6a14da36-210e-4dd0-a7d9-f22b0476f7dc",
   "metadata": {},
   "outputs": [],
   "source": [
    " # Create row_count\n",
    "df = df.withColumn(\"temp_column\", lit(\"A\"))\n",
    "w = Window().partitionBy(\"temp_column\").orderBy(lit(\"A\"))\n",
    "df = df.withColumn(\"row_id\", row_number().over(w)).drop(\"temp_column\")"
   ]
  },
  {
   "cell_type": "code",
   "execution_count": 10,
   "id": "53b767a4-d5d0-4419-9b11-0cc7f1dbf8d0",
   "metadata": {},
   "outputs": [
    {
     "name": "stdout",
     "output_type": "stream",
     "text": [
      "root\n",
      " |-- asin: string (nullable = true)\n",
      " |-- overall: double (nullable = true)\n",
      " |-- reviewText: string (nullable = true)\n",
      " |-- reviewTimeTS: timestamp (nullable = true)\n",
      " |-- reviewerID: string (nullable = true)\n",
      " |-- reviewerName: string (nullable = true)\n",
      " |-- summary: string (nullable = true)\n",
      " |-- verified: boolean (nullable = true)\n",
      " |-- row_number: integer (nullable = true)\n",
      " |-- asin_key: integer (nullable = true)\n",
      " |-- row_id: integer (nullable = false)\n",
      "\n"
     ]
    }
   ],
   "source": [
    "df.printSchema()"
   ]
  },
  {
   "cell_type": "code",
   "execution_count": 27,
   "id": "f9299da6-2508-44e3-a260-20f84ab30997",
   "metadata": {},
   "outputs": [],
   "source": [
    "df_test = df.limit(30)"
   ]
  },
  {
   "cell_type": "code",
   "execution_count": 28,
   "id": "13a1eaff-a795-4431-8f21-e4c794a6ba5a",
   "metadata": {},
   "outputs": [
    {
     "data": {
      "text/plain": [
       "30"
      ]
     },
     "execution_count": 28,
     "metadata": {},
     "output_type": "execute_result"
    }
   ],
   "source": [
    "df_test.count()"
   ]
  },
  {
   "cell_type": "code",
   "execution_count": 29,
   "id": "3420938b-90dc-410b-a679-bb69f82346df",
   "metadata": {},
   "outputs": [
    {
     "name": "stdout",
     "output_type": "stream",
     "text": [
      "+----------+-------+--------------------+-------------------+--------------+-------------------+--------------------+--------+----------+--------+------+\n",
      "|      asin|overall|          reviewText|       reviewTimeTS|    reviewerID|       reviewerName|             summary|verified|row_number|asin_key|row_id|\n",
      "+----------+-------+--------------------+-------------------+--------------+-------------------+--------------------+--------+----------+--------+------+\n",
      "|0002005107|    5.0|Thumps DreadfulWa...|2008-07-13 00:00:00| AACMLWNILA6CL|Diana Tixier Herald|         Love Thumps|   false|         1| 2005107|     1|\n",
      "|0006280544|    3.0|Mere Chistianity ...|2008-07-13 00:00:00|A1W98Q4MZK80VA|Joseph P. Tevington|Nothing \"Mere\" Ab...|   false|         1| 6280544|     2|\n",
      "|0007127898|    5.0|Mabinogion myth m...|2008-07-13 00:00:00|A1VCUE373CMQBY|    Amazon Customer|Let this story bl...|   false|         1| 7127898|     3|\n",
      "|0007256760|    4.0|[...]\\nIt was a g...|2008-07-13 00:00:00| APPWA0SMSBT44|     Darius Wilkins| It's pretty good...|   false|         1| 7256760|     4|\n",
      "|0007265077|    1.0|Spoiler Alert...r...|2008-07-13 00:00:00|  AAN7FFA1GHBY|      Donald Souder| Too many loose ends|    true|         1| 7265077|     5|\n",
      "|0007265077|    4.0|I agree with all ...|2008-07-13 00:00:00|A2PN65B6BSTIYZ|       B. A. Chaney|A Beautiful Re-in...|    true|         2|14530154|     6|\n",
      "|0007271239|    5.0|This book is for ...|2008-07-13 00:00:00|A2QVXKUH3882QH|       Wisdom Lover|Life Through the ...|   false|         1| 7271239|     7|\n",
      "|0007350899|    5.0|is really a wonde...|2008-07-13 00:00:00| A6138STCC4WT6|             M. Lee|A Tale of Two Cities|   false|         1| 7350899|     8|\n",
      "|0007350899|    5.0|Some honest discl...|2008-07-13 00:00:00|A1B1ERGGIV47SB|           T. Leach|           Rewarding|   false|         2|14701798|     9|\n",
      "|0007351054|    5.0|<a data-hook=\"pro...|2008-07-13 00:00:00|A1APHERUJIKK3I|     Sarah Galperin|This is such a go...|   false|         1| 7351054|    10|\n",
      "|0007491557|    5.0|I've just finishe...|2008-07-13 00:00:00|A1JA55BW3T7WZJ|             Amanda|Innovative page t...|    true|         1| 7491557|    11|\n",
      "|0008124868|    5.0|This is a very en...|2008-07-13 00:00:00|A1B1ERGGIV47SB|           T. Leach|Archetypical page...|   false|         1| 8124868|    12|\n",
      "|0041330013|    5.0|I've read quite a...|2008-07-13 00:00:00|A20CR4907G7CTS|       Jeff Marzano|Very Mysterious A...|    true|         1|41330013|    13|\n",
      "|0060093919|    3.0|I read SEP for th...|2008-07-13 00:00:00|A11S0YQ1ALK7UG|            Jessica|Where's the Romance?|   false|         1|60093919|    14|\n",
      "|006051518X|    4.0|Having been recen...|2008-07-13 00:00:00|A2NHD7LUXVGTD3|       doc peterson|Good - but not great|   false|         1|    NULL|    15|\n",
      "|0060558121|    2.0|I initially went ...|2008-07-13 00:00:00| AWAPXAKF1G7LO|     Tristan Keidis|       Had potential|   false|         1|60558121|    16|\n",
      "|0060559535|    3.0|This book suggest...|2008-07-13 00:00:00| ALN0TTRTLHA4E|          Tom Munro|    Not hard to read|   false|         1|60559535|    17|\n",
      "|0060648082|    5.0|This book helped ...|2008-07-13 00:00:00|A3F10FS61TC45T|   Michael J. Henry|I thought I was o...|    true|         1|60648082|    18|\n",
      "|0060765380|    1.0|I have read every...|2008-07-13 00:00:00|A3PMPAM83LZIER|  Robert W. Johnson|              Awful!|   false|         1|60765380|    19|\n",
      "|006085054X|    4.0|I have to say thi...|2008-07-13 00:00:00| AGQ4HLY4GONFY|       Hisham Sabha|Another good touc...|   false|         1|    NULL|    20|\n",
      "+----------+-------+--------------------+-------------------+--------------+-------------------+--------------------+--------+----------+--------+------+\n",
      "only showing top 20 rows\n",
      "\n"
     ]
    }
   ],
   "source": [
    "df_test.show()"
   ]
  },
  {
   "cell_type": "code",
   "execution_count": 30,
   "id": "143ebf8c-ede4-4f83-8e09-4ccafbff5d49",
   "metadata": {},
   "outputs": [],
   "source": [
    "schema = StructType(\n",
    "       [\n",
    "           StructField('asin', StringType(), True),\n",
    "           StructField('overall', DoubleType(), True),\n",
    "           StructField('reviewText', StringType(), True),\n",
    "           StructField('reviewTimeTS', TimestampType(), True),\n",
    "           StructField('reviewerID', StringType(), True),\n",
    "           StructField('reviewerName', StringType(), True),\n",
    "           StructField('summary', StringType(), True),\n",
    "           StructField('verified', BooleanType(), True),\n",
    "           StructField('row_id', IntegerType(), True),\n",
    "           StructField('row_number', IntegerType(), True),\n",
    "           StructField('asin_key', IntegerType(), True),\n",
    "           StructField(\"anthropicSummary\", StringType(), True)\n",
    "       ]\n",
    "    )"
   ]
  },
  {
   "cell_type": "code",
   "execution_count": 31,
   "id": "939fbbc8-692e-4ffd-a90c-cdfa6dad4a28",
   "metadata": {},
   "outputs": [],
   "source": [
    "df_summary_test = ( df_test\n",
    "      .groupBy(spark_partition_id().alias(\"_pid\"))\n",
    "    )"
   ]
  },
  {
   "cell_type": "code",
   "execution_count": 32,
   "id": "b39eacdc-2e12-4bcc-86bc-56d5b42c0fb1",
   "metadata": {},
   "outputs": [
    {
     "name": "stdout",
     "output_type": "stream",
     "text": [
      "+----+-----+\n",
      "|_pid|count|\n",
      "+----+-----+\n",
      "|   0|   30|\n",
      "+----+-----+\n",
      "\n"
     ]
    }
   ],
   "source": [
    "df_summary_test.count().show()"
   ]
  },
  {
   "cell_type": "code",
   "execution_count": 33,
   "id": "f7ccbc3d-af33-47bd-938f-54f7ffcc358c",
   "metadata": {},
   "outputs": [],
   "source": [
    "df_summary = ( df_test\n",
    "      .groupBy(spark_partition_id().alias(\"_pid\"))\n",
    "      .applyInPandas(getPdfAnthropic,schema)\n",
    "    )"
   ]
  },
  {
   "cell_type": "code",
   "execution_count": 34,
   "id": "75a111eb-cf3e-40a6-afb7-ad43aefb29a6",
   "metadata": {},
   "outputs": [
    {
     "name": "stdout",
     "output_type": "stream",
     "text": [
      "02:31:35\n"
     ]
    },
    {
     "name": "stderr",
     "output_type": "stream",
     "text": [
      "[Stage 73:>                                                         (0 + 1) / 1]\r"
     ]
    },
    {
     "name": "stdout",
     "output_type": "stream",
     "text": [
      "+----------+-------+--------------------+-------------------+--------------+-------------------+--------------------+--------+------+----------+--------+--------------------+\n",
      "|      asin|overall|          reviewText|       reviewTimeTS|    reviewerID|       reviewerName|             summary|verified|row_id|row_number|asin_key|    anthropicSummary|\n",
      "+----------+-------+--------------------+-------------------+--------------+-------------------+--------------------+--------+------+----------+--------+--------------------+\n",
      "|0002005107|    5.0|Thumps DreadfulWa...|2008-07-13 00:00:00| AACMLWNILA6CL|Diana Tixier Herald|         Love Thumps|   false|     1|         1| 2005107|The review is abo...|\n",
      "|0006280544|    3.0|Mere Chistianity ...|2008-07-13 00:00:00|A1W98Q4MZK80VA|Joseph P. Tevington|Nothing \"Mere\" Ab...|   false|     2|         1| 6280544|The review provid...|\n",
      "|0007127898|    5.0|Mabinogion myth m...|2008-07-13 00:00:00|A1VCUE373CMQBY|    Amazon Customer|Let this story bl...|   false|     3|         1| 7127898|The review summar...|\n",
      "|0007256760|    4.0|[...]\\nIt was a g...|2008-07-13 00:00:00| APPWA0SMSBT44|     Darius Wilkins| It's pretty good...|   false|     4|         1| 7256760|The review discus...|\n",
      "|0007265077|    1.0|Spoiler Alert...r...|2008-07-13 00:00:00|  AAN7FFA1GHBY|      Donald Souder| Too many loose ends|    true|     5|         1| 7265077|The review expres...|\n",
      "|0007265077|    4.0|I agree with all ...|2008-07-13 00:00:00|A2PN65B6BSTIYZ|       B. A. Chaney|A Beautiful Re-in...|    true|     6|         2|14530154|The review of \"Th...|\n",
      "|0007271239|    5.0|This book is for ...|2008-07-13 00:00:00|A2QVXKUH3882QH|       Wisdom Lover|Life Through the ...|   false|     7|         1| 7271239|The book review d...|\n",
      "|0007350899|    5.0|is really a wonde...|2008-07-13 00:00:00| A6138STCC4WT6|             M. Lee|A Tale of Two Cities|   false|     8|         1| 7350899|The review strong...|\n",
      "|0007350899|    5.0|Some honest discl...|2008-07-13 00:00:00|A1B1ERGGIV47SB|           T. Leach|           Rewarding|   false|     9|         2|14701798|The review provid...|\n",
      "|0007351054|    5.0|<a data-hook=\"pro...|2008-07-13 00:00:00|A1APHERUJIKK3I|     Sarah Galperin|This is such a go...|   false|    10|         1| 7351054|The review summar...|\n",
      "|0007491557|    5.0|I've just finishe...|2008-07-13 00:00:00|A1JA55BW3T7WZJ|             Amanda|Innovative page t...|    true|    11|         1| 7491557|The reviewer high...|\n",
      "|0008124868|    5.0|This is a very en...|2008-07-13 00:00:00|A1B1ERGGIV47SB|           T. Leach|Archetypical page...|   false|    12|         1| 8124868|The review summar...|\n",
      "|0041330013|    5.0|I've read quite a...|2008-07-13 00:00:00|A20CR4907G7CTS|       Jeff Marzano|Very Mysterious A...|    true|    13|         1|41330013|The reviewer has ...|\n",
      "|0060093919|    3.0|I read SEP for th...|2008-07-13 00:00:00|A11S0YQ1ALK7UG|            Jessica|Where's the Romance?|   false|    14|         1|60093919|The review discus...|\n",
      "|006051518X|    4.0|Having been recen...|2008-07-13 00:00:00|A2NHD7LUXVGTD3|       doc peterson|Good - but not great|   false|    15|         1|    NULL|The reviewer was ...|\n",
      "|0060558121|    2.0|I initially went ...|2008-07-13 00:00:00| AWAPXAKF1G7LO|     Tristan Keidis|       Had potential|   false|    16|         1|60558121|The reviewer init...|\n",
      "|0060559535|    3.0|This book suggest...|2008-07-13 00:00:00| ALN0TTRTLHA4E|          Tom Munro|    Not hard to read|   false|    17|         1|60559535|The review sugges...|\n",
      "|0060648082|    5.0|This book helped ...|2008-07-13 00:00:00|A3F10FS61TC45T|   Michael J. Henry|I thought I was o...|    true|    18|         1|60648082|The review sugges...|\n",
      "|0060765380|    1.0|I have read every...|2008-07-13 00:00:00|A3PMPAM83LZIER|  Robert W. Johnson|              Awful!|   false|    19|         1|60765380|The review is cri...|\n",
      "|006085054X|    4.0|I have to say thi...|2008-07-13 00:00:00| AGQ4HLY4GONFY|       Hisham Sabha|Another good touc...|   false|    20|         1|    NULL|The review discus...|\n",
      "+----------+-------+--------------------+-------------------+--------------+-------------------+--------------------+--------+------+----------+--------+--------------------+\n",
      "only showing top 20 rows\n",
      "\n",
      "02:32:38\n"
     ]
    },
    {
     "name": "stderr",
     "output_type": "stream",
     "text": [
      "                                                                                \r"
     ]
    }
   ],
   "source": [
    "# Get start time\n",
    "t0 = time.localtime()\n",
    "start_time = time.strftime(\"%H:%M:%S\", t0)\n",
    "print(start_time)\n",
    "\n",
    "# Get Dataframe\n",
    "df_summary.cache()\n",
    "df_summary.show()\n",
    "\n",
    "# Get end time\n",
    "t1 = time.localtime()\n",
    "end_time = time.strftime(\"%H:%M:%S\", t1)\n",
    "print(end_time)\n",
    "\n"
   ]
  },
  {
   "cell_type": "code",
   "execution_count": 36,
   "id": "d62d649a-ae05-4f28-91eb-8f56f7616d05",
   "metadata": {},
   "outputs": [
    {
     "name": "stdout",
     "output_type": "stream",
     "text": [
      "Difference (seconds): 63.0\n"
     ]
    }
   ],
   "source": [
    "# Difference \n",
    "diff_time = ( time.mktime(t1) - time.mktime(t0) )\n",
    "print(f\"Difference (seconds): {diff_time}\")"
   ]
  },
  {
   "cell_type": "code",
   "execution_count": 35,
   "id": "841fb9b5-9ef4-4404-9fa5-afebb05c3a38",
   "metadata": {},
   "outputs": [],
   "source": [
    "df_summary_text = df_summary.select(\"reviewText\", \"anthropicSummary\").collect()"
   ]
  },
  {
   "cell_type": "code",
   "execution_count": 38,
   "id": "3386a56a-af3d-4abb-91fd-e6d8f7a8e757",
   "metadata": {},
   "outputs": [
    {
     "name": "stdout",
     "output_type": "stream",
     "text": [
      "The review provides a detailed summary of C.S. Lewis' book \"Mere Christianity,\" which is divided into four books. In the first book, Lewis argues against relativistic thinking and asserts the existence of universal moral standards that come from God. In the second book, Lewis refutes the notion that Jesus was merely a great moral teacher, stating that he must have been either a lunatic, a liar, or the divine Son of God. The third book explores the \"cardinal virtues\" and the \"theological virtues,\" and includes Lewis' prophetic commentary on sexual morality, warning against the dangers of contraception and premarital sex. However, the reviewer also notes that Lewis made some poorly thought-out comments on marriage and sexuality. In the fourth book, Lewis warns against a vague, feel-good religion and emphasizes the importance of submitting to Christ and allowing Him to shape one's true personality.\n"
     ]
    }
   ],
   "source": [
    "print(df_summary_text[1][\"anthropicSummary\"])"
   ]
  }
 ],
 "metadata": {
  "kernelspec": {
   "display_name": "Python 3 (ipykernel)",
   "language": "python",
   "name": "python3"
  },
  "language_info": {
   "codemirror_mode": {
    "name": "ipython",
    "version": 3
   },
   "file_extension": ".py",
   "mimetype": "text/x-python",
   "name": "python",
   "nbconvert_exporter": "python",
   "pygments_lexer": "ipython3",
   "version": "3.10.12"
  }
 },
 "nbformat": 4,
 "nbformat_minor": 5
}
